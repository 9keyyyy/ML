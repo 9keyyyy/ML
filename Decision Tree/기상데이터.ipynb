{
  "nbformat": 4,
  "nbformat_minor": 0,
  "metadata": {
    "colab": {
      "name": "9주차과제-기상데이터.ipynb",
      "provenance": []
    },
    "kernelspec": {
      "name": "python3",
      "display_name": "Python 3"
    },
    "language_info": {
      "name": "python"
    }
  },
  "cells": [
    {
      "cell_type": "code",
      "metadata": {
        "colab": {
          "resources": {
            "http://localhost:8080/nbextensions/google.colab/files.js": {
              "data": "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",
              "ok": true,
              "headers": [
                [
                  "content-type",
                  "application/javascript"
                ]
              ],
              "status": 200,
              "status_text": ""
            }
          },
          "base_uri": "https://localhost:8080/",
          "height": 287
        },
        "id": "JmmIofFk_b7X",
        "outputId": "a9fa21bd-d947-44bb-9c2c-cb3904f337ba"
      },
      "source": [
        "!pip install kaggle\n",
        "from google.colab import files\n",
        "files.upload()"
      ],
      "execution_count": 1,
      "outputs": [
        {
          "output_type": "stream",
          "text": [
            "Requirement already satisfied: kaggle in /usr/local/lib/python3.7/dist-packages (1.5.12)\n",
            "Requirement already satisfied: certifi in /usr/local/lib/python3.7/dist-packages (from kaggle) (2020.12.5)\n",
            "Requirement already satisfied: urllib3 in /usr/local/lib/python3.7/dist-packages (from kaggle) (1.24.3)\n",
            "Requirement already satisfied: requests in /usr/local/lib/python3.7/dist-packages (from kaggle) (2.23.0)\n",
            "Requirement already satisfied: six>=1.10 in /usr/local/lib/python3.7/dist-packages (from kaggle) (1.15.0)\n",
            "Requirement already satisfied: python-slugify in /usr/local/lib/python3.7/dist-packages (from kaggle) (4.0.1)\n",
            "Requirement already satisfied: python-dateutil in /usr/local/lib/python3.7/dist-packages (from kaggle) (2.8.1)\n",
            "Requirement already satisfied: tqdm in /usr/local/lib/python3.7/dist-packages (from kaggle) (4.41.1)\n",
            "Requirement already satisfied: chardet<4,>=3.0.2 in /usr/local/lib/python3.7/dist-packages (from requests->kaggle) (3.0.4)\n",
            "Requirement already satisfied: idna<3,>=2.5 in /usr/local/lib/python3.7/dist-packages (from requests->kaggle) (2.10)\n",
            "Requirement already satisfied: text-unidecode>=1.3 in /usr/local/lib/python3.7/dist-packages (from python-slugify->kaggle) (1.3)\n"
          ],
          "name": "stdout"
        },
        {
          "output_type": "display_data",
          "data": {
            "text/html": [
              "\n",
              "     <input type=\"file\" id=\"files-f078566d-2b39-4f96-a492-fb529c02976b\" name=\"files[]\" multiple disabled\n",
              "        style=\"border:none\" />\n",
              "     <output id=\"result-f078566d-2b39-4f96-a492-fb529c02976b\">\n",
              "      Upload widget is only available when the cell has been executed in the\n",
              "      current browser session. Please rerun this cell to enable.\n",
              "      </output>\n",
              "      <script src=\"/nbextensions/google.colab/files.js\"></script> "
            ],
            "text/plain": [
              "<IPython.core.display.HTML object>"
            ]
          },
          "metadata": {
            "tags": []
          }
        },
        {
          "output_type": "stream",
          "text": [
            "Saving kaggle.json to kaggle.json\n"
          ],
          "name": "stdout"
        },
        {
          "output_type": "execute_result",
          "data": {
            "text/plain": [
              "{'kaggle.json': b'{\"username\":\"jogukhee\",\"key\":\"8ceb46a578c211482273ee389b8d3bb3\"}'}"
            ]
          },
          "metadata": {
            "tags": []
          },
          "execution_count": 1
        }
      ]
    },
    {
      "cell_type": "code",
      "metadata": {
        "colab": {
          "base_uri": "https://localhost:8080/"
        },
        "id": "UCUlSIyrBJB1",
        "outputId": "0544025a-cc45-45e6-bf2d-4f4c4837952c"
      },
      "source": [
        "!mkdir -p ~/.kaggle\n",
        "!cp kaggle.json ~/.kaggle/\n",
        "!chmod 600 ~/.kaggle/kaggle.json\n",
        "!kaggle competitions list"
      ],
      "execution_count": 2,
      "outputs": [
        {
          "output_type": "stream",
          "text": [
            "Warning: Looks like you're using an outdated API Version, please consider updating (server 1.5.12 / client 1.5.4)\n",
            "ref                                            deadline             category            reward  teamCount  userHasEntered  \n",
            "---------------------------------------------  -------------------  ---------------  ---------  ---------  --------------  \n",
            "contradictory-my-dear-watson                   2030-07-01 23:59:00  Getting Started     Prizes        135           False  \n",
            "gan-getting-started                            2030-07-01 23:59:00  Getting Started     Prizes        255           False  \n",
            "tpu-getting-started                            2030-06-03 23:59:00  Getting Started  Knowledge        794           False  \n",
            "digit-recognizer                               2030-01-01 00:00:00  Getting Started  Knowledge       4279           False  \n",
            "titanic                                        2030-01-01 00:00:00  Getting Started  Knowledge      35241            True  \n",
            "house-prices-advanced-regression-techniques    2030-01-01 00:00:00  Getting Started  Knowledge       9276            True  \n",
            "connectx                                       2030-01-01 00:00:00  Getting Started  Knowledge        743           False  \n",
            "nlp-getting-started                            2030-01-01 00:00:00  Getting Started  Knowledge       2455           False  \n",
            "competitive-data-science-predict-future-sales  2022-12-31 23:59:00  Playground           Kudos      11173            True  \n",
            "jane-street-market-prediction                  2021-08-23 23:59:00  Featured          $100,000       4245           False  \n",
            "hungry-geese                                   2021-07-26 23:59:00  Playground          Prizes        567           False  \n",
            "coleridgeinitiative-show-us-the-data           2021-06-22 23:59:00  Featured           $90,000        764           False  \n",
            "bms-molecular-translation                      2021-06-02 23:59:00  Featured           $50,000        577           False  \n",
            "birdclef-2021                                  2021-05-31 23:59:00  Research            $5,000        346           False  \n",
            "iwildcam2021-fgvc8                             2021-05-26 23:59:00  Research         Knowledge         27           False  \n",
            "herbarium-2021-fgvc8                           2021-05-26 23:59:00  Research         Knowledge         54           False  \n",
            "plant-pathology-2021-fgvc8                     2021-05-26 23:59:00  Research         Knowledge        399           False  \n",
            "hotel-id-2021-fgvc8                            2021-05-26 23:59:00  Research         Knowledge         71           False  \n",
            "hashcode-2021-oqr-extension                    2021-05-25 23:59:00  Playground       Knowledge        141           False  \n",
            "indoor-location-navigation                     2021-05-17 23:59:00  Research           $10,000       1051           False  \n"
          ],
          "name": "stdout"
        }
      ]
    },
    {
      "cell_type": "code",
      "metadata": {
        "colab": {
          "base_uri": "https://localhost:8080/"
        },
        "id": "vKw3wwJRBJ1y",
        "outputId": "24a8543b-c1af-40aa-9e9a-7681c05cf8c8"
      },
      "source": [
        "!kaggle competitions download -c 2021-ml-p1"
      ],
      "execution_count": 3,
      "outputs": [
        {
          "output_type": "stream",
          "text": [
            "Warning: Looks like you're using an outdated API Version, please consider updating (server 1.5.12 / client 1.5.4)\n",
            "Downloading data.csv to /content\n",
            "\r  0% 0.00/302k [00:00<?, ?B/s]\n",
            "100% 302k/302k [00:00<00:00, 43.1MB/s]\n",
            "Downloading sample_submission.csv to /content\n",
            "  0% 0.00/6.74k [00:00<?, ?B/s]\n",
            "100% 6.74k/6.74k [00:00<00:00, 5.92MB/s]\n",
            "Downloading X_test.csv to /content\n",
            "  0% 0.00/26.1k [00:00<?, ?B/s]\n",
            "100% 26.1k/26.1k [00:00<00:00, 23.9MB/s]\n"
          ],
          "name": "stdout"
        }
      ]
    },
    {
      "cell_type": "code",
      "metadata": {
        "colab": {
          "base_uri": "https://localhost:8080/"
        },
        "id": "iwGDgDE0BgII",
        "outputId": "910b345d-f57b-4b21-a49f-e3964c940fe9"
      },
      "source": [
        "import pandas as pd\n",
        "import numpy as np\n",
        "\n",
        "X = pd.read_csv('data.csv')\n",
        "X.head()\n",
        "y = X['TARGET']\n",
        "X = X.drop(['TARGET'], axis=1)\n",
        "\n",
        "print(X.shape)\n",
        "print(y.shape)\n",
        "y.head(30)"
      ],
      "execution_count": 49,
      "outputs": [
        {
          "output_type": "stream",
          "text": [
            "(9000, 8)\n",
            "(9000,)\n"
          ],
          "name": "stdout"
        },
        {
          "output_type": "execute_result",
          "data": {
            "text/plain": [
              "0      0.000000\n",
              "1     21.957266\n",
              "2      0.000000\n",
              "3      0.000000\n",
              "4      0.000000\n",
              "5      0.000000\n",
              "6     18.202286\n",
              "7     36.497998\n",
              "8      0.000000\n",
              "9     45.603051\n",
              "10     1.876958\n",
              "11     0.000000\n",
              "12     0.000000\n",
              "13     0.000000\n",
              "14     5.724406\n",
              "15     0.000000\n",
              "16     0.000000\n",
              "17     0.000000\n",
              "18     0.000000\n",
              "19    21.021462\n",
              "20     0.000000\n",
              "21     0.000000\n",
              "22     0.000000\n",
              "23     0.000000\n",
              "24    71.117147\n",
              "25     0.000000\n",
              "26     0.000000\n",
              "27     0.000000\n",
              "28     9.666438\n",
              "29    65.588852\n",
              "Name: TARGET, dtype: float64"
            ]
          },
          "metadata": {
            "tags": []
          },
          "execution_count": 49
        }
      ]
    },
    {
      "cell_type": "code",
      "metadata": {
        "id": "EYQjVCOmBtmG"
      },
      "source": [
        "from sklearn.model_selection import train_test_split\n",
        "X_train, X_test, y_train, y_test = train_test_split(X, y, test_size=0.3,random_state=1)"
      ],
      "execution_count": 5,
      "outputs": []
    },
    {
      "cell_type": "code",
      "metadata": {
        "id": "0SCfEYAIdhqw"
      },
      "source": [
        "# 표준화\n",
        "from sklearn.preprocessing import StandardScaler\n",
        "sc = StandardScaler()\n",
        "sc.fit(X_train)\n",
        "X_train_std = sc.transform(X_train)\n",
        "X_test_std = sc.transform(X_test)"
      ],
      "execution_count": 6,
      "outputs": []
    },
    {
      "cell_type": "code",
      "metadata": {
        "colab": {
          "base_uri": "https://localhost:8080/"
        },
        "id": "l7sRLIapdmf_",
        "outputId": "d26f004c-d5b5-426e-a652-0f32a90475e4"
      },
      "source": [
        "from sklearn import tree\n",
        "clist = [5, 6, 7, 8, 9, 10, 11, 12, 13, 14, 15, 16, 17, 18, 19, 20]\n",
        "\n",
        "for i in clist:\n",
        "    \n",
        "    clf = tree.DecisionTreeRegressor(criterion='mse', max_depth=i, random_state=1)\n",
        "    clf.fit(X_train_std, y_train)\n",
        "\n",
        "    #print(i, clf.score(X_train_std, y_train))\n",
        "    print(i, clf.score(X_test_std, y_test))\n",
        "\n"
      ],
      "execution_count": 8,
      "outputs": [
        {
          "output_type": "stream",
          "text": [
            "5 0.9458680373004574\n",
            "6 0.9634577079761649\n",
            "7 0.9752924260164245\n",
            "8 0.9853224904384169\n",
            "9 0.9895690069452456\n",
            "10 0.9922708885522092\n",
            "11 0.9932247610143188\n",
            "12 0.9933370391278984\n",
            "13 0.9938432309227595\n",
            "14 0.9937840278775169\n",
            "15 0.9941461716927987\n",
            "16 0.9939992191034965\n",
            "17 0.993599828190557\n",
            "18 0.9936033507049578\n",
            "19 0.9939348917618126\n",
            "20 0.9939032307027956\n"
          ],
          "name": "stdout"
        }
      ]
    },
    {
      "cell_type": "code",
      "metadata": {
        "colab": {
          "base_uri": "https://localhost:8080/"
        },
        "id": "AKvfLPZxfEjz",
        "outputId": "4b83b63c-bc5d-4f68-b460-cee53d43f52c"
      },
      "source": [
        "from sklearn import tree\n",
        "clist = [5, 6, 7, 8, 9, 10, 11, 12, 13, 14, 15, 16, 17, 18, 19, 20]\n",
        "\n",
        "for i in clist:\n",
        "    \n",
        "    clf = tree.DecisionTreeRegressor(criterion='mse', max_depth=i, random_state=1)\n",
        "    clf.fit(X_train, y_train)\n",
        "\n",
        "    #print(i, clf.score(X_train_std, y_train))\n",
        "    print(i, clf.score(X_test, y_test))\n",
        "\n"
      ],
      "execution_count": 10,
      "outputs": [
        {
          "output_type": "stream",
          "text": [
            "5 0.9458680373004574\n",
            "6 0.9634577079761649\n",
            "7 0.9752924260164245\n",
            "8 0.9853224180079532\n",
            "9 0.9895732995912924\n",
            "10 0.9922659470147007\n",
            "11 0.9932397708150144\n",
            "12 0.9933492488895314\n",
            "13 0.9938873867693795\n",
            "14 0.993839202613483\n",
            "15 0.9941540134536025\n",
            "16 0.9940564488129874\n",
            "17 0.9936633135778957\n",
            "18 0.993670607993396\n",
            "19 0.9939913855485364\n",
            "20 0.9939607562050592\n"
          ],
          "name": "stdout"
        }
      ]
    },
    {
      "cell_type": "code",
      "metadata": {
        "colab": {
          "base_uri": "https://localhost:8080/"
        },
        "id": "v_7A2j_jhCJj",
        "outputId": "05c8e9e3-b9aa-4119-ffaa-24d54f4824ec"
      },
      "source": [
        " clf = tree.DecisionTreeRegressor(criterion='mse', max_depth=17, min_samples_split = 5, random_state=1)\n",
        " clf.fit(X, y)\n",
        "\n",
        " test = pd.read_csv('X_test.csv')\n",
        " test_pred = clf.predict(test)\n",
        "\n",
        " test_pred"
      ],
      "execution_count": 81,
      "outputs": [
        {
          "output_type": "execute_result",
          "data": {
            "text/plain": [
              "array([1.41691607e+01, 3.02120424e+01, 0.00000000e+00, 0.00000000e+00,\n",
              "       0.00000000e+00, 0.00000000e+00, 0.00000000e+00, 2.13949645e+01,\n",
              "       6.28642575e+01, 0.00000000e+00, 1.31371506e+00, 0.00000000e+00,\n",
              "       0.00000000e+00, 2.81491032e+00, 2.34594554e+00, 7.50733514e-01,\n",
              "       0.00000000e+00, 0.00000000e+00, 0.00000000e+00, 0.00000000e+00,\n",
              "       0.00000000e+00, 0.00000000e+00, 4.11906155e+01, 6.68929463e+01,\n",
              "       0.00000000e+00, 5.30665981e+01, 0.00000000e+00, 2.73981593e+01,\n",
              "       1.35118666e+01, 3.87532100e+01, 3.47234603e+00, 0.00000000e+00,\n",
              "       3.93157785e+01, 0.00000000e+00, 8.20014108e+01, 7.27209146e+01,\n",
              "       1.59515092e+01, 0.00000000e+00, 0.00000000e+00, 0.00000000e+00,\n",
              "       7.97768326e+00, 0.00000000e+00, 3.09645241e+00, 4.02580847e+01,\n",
              "       0.00000000e+00, 0.00000000e+00, 5.96728191e+01, 0.00000000e+00,\n",
              "       6.56871277e-01, 0.00000000e+00, 2.31804257e+01, 8.56201671e+01,\n",
              "       0.00000000e+00, 4.86019833e+01, 0.00000000e+00, 3.00267002e+01,\n",
              "       1.87681316e+00, 0.00000000e+00, 0.00000000e+00, 0.00000000e+00,\n",
              "       0.00000000e+00, 0.00000000e+00, 1.42651909e+01, 0.00000000e+00,\n",
              "       3.44376289e+01, 8.85641594e+01, 4.88006281e+00, 0.00000000e+00,\n",
              "       0.00000000e+00, 0.00000000e+00, 0.00000000e+00, 1.25753392e+01,\n",
              "       5.77985297e+01, 4.87998237e+00, 0.00000000e+00, 6.94344718e+01,\n",
              "       0.00000000e+00, 4.63552470e+01, 2.90848489e+01, 0.00000000e+00,\n",
              "       9.57032690e+00, 0.00000000e+00, 3.19055899e+00, 2.99404340e+01,\n",
              "       0.00000000e+00, 7.70406398e+01, 0.00000000e+00, 1.06986580e+01,\n",
              "       2.93669608e+01, 0.00000000e+00, 0.00000000e+00, 3.34974329e+01,\n",
              "       9.13771910e+01, 0.00000000e+00, 1.44524143e+01, 0.00000000e+00,\n",
              "       8.78145831e+01, 0.00000000e+00, 0.00000000e+00, 2.94692051e+01,\n",
              "       0.00000000e+00, 5.80777909e+01, 0.00000000e+00, 7.85290919e+01,\n",
              "       6.25752085e+01, 0.00000000e+00, 0.00000000e+00, 9.34442397e+01,\n",
              "       0.00000000e+00, 0.00000000e+00, 0.00000000e+00, 5.59173528e+01,\n",
              "       1.77537525e+01, 1.71739728e+01, 8.53734120e+01, 4.22236549e+01,\n",
              "       0.00000000e+00, 0.00000000e+00, 0.00000000e+00, 0.00000000e+00,\n",
              "       2.13949645e+01, 0.00000000e+00, 2.07360502e+01, 3.61234913e+01,\n",
              "       0.00000000e+00, 0.00000000e+00, 0.00000000e+00, 0.00000000e+00,\n",
              "       7.41194536e+01, 5.48065581e+01, 0.00000000e+00, 0.00000000e+00,\n",
              "       1.74562807e+01, 1.47336310e+01, 9.01213297e+01, 0.00000000e+00,\n",
              "       0.00000000e+00, 0.00000000e+00, 4.02580847e+01, 0.00000000e+00,\n",
              "       1.09797190e+01, 1.43582519e+01, 3.37816917e+00, 9.38394390e-01,\n",
              "       3.66840351e+01, 3.45326030e+01, 0.00000000e+00, 0.00000000e+00,\n",
              "       0.00000000e+00, 0.00000000e+00, 0.00000000e+00, 0.00000000e+00,\n",
              "       7.87210597e+01, 0.00000000e+00, 1.40760511e+00, 2.78725133e+01,\n",
              "       4.91633172e+01, 7.22573066e+00, 0.00000000e+00, 2.62752238e+00,\n",
              "       1.30437798e+01, 8.09720267e+01, 7.99150096e+01, 0.00000000e+00,\n",
              "       0.00000000e+00, 0.00000000e+00, 0.00000000e+00, 3.27449904e+01,\n",
              "       0.00000000e+00, 1.13550940e+01, 3.75350771e-01, 0.00000000e+00,\n",
              "       0.00000000e+00, 5.62000516e+01, 4.81397284e+01, 7.50733514e-01,\n",
              "       2.90854883e+00, 7.50733514e-01, 0.00000000e+00, 0.00000000e+00,\n",
              "       0.00000000e+00, 6.39972185e+01, 0.00000000e+00, 0.00000000e+00,\n",
              "       5.30170581e+01, 3.65956443e+00, 0.00000000e+00, 2.30825184e+01,\n",
              "       0.00000000e+00, 0.00000000e+00, 0.00000000e+00, 2.81540538e+01,\n",
              "       0.00000000e+00, 3.92223772e+01, 3.07763529e+01, 0.00000000e+00,\n",
              "       0.00000000e+00, 0.00000000e+00, 0.00000000e+00, 2.75396608e+01,\n",
              "       3.00294820e+00, 3.75935883e+01, 2.37416864e+01, 0.00000000e+00,\n",
              "       1.03224497e+01, 0.00000000e+00, 2.75843018e+01, 0.00000000e+00,\n",
              "       2.34594554e+00, 1.67708488e+01, 1.85810629e+01, 1.73609033e+01,\n",
              "       4.69130062e+00, 0.00000000e+00, 0.00000000e+00, 1.82969171e+01,\n",
              "       6.93337646e+01, 4.82319776e+01, 0.00000000e+00, 0.00000000e+00,\n",
              "       6.01432673e+01, 8.81985845e+01, 0.00000000e+00, 0.00000000e+00,\n",
              "       7.92744396e+01, 6.54971797e+01, 2.43984519e+00, 3.37816917e+00,\n",
              "       5.50784120e+01, 0.00000000e+00, 0.00000000e+00, 1.07925059e+01,\n",
              "       1.23864903e+01, 0.00000000e+00, 3.75350771e-01, 6.56871277e-01,\n",
              "       0.00000000e+00, 0.00000000e+00, 0.00000000e+00, 2.58039119e+01,\n",
              "       7.12125343e+01, 0.00000000e+00, 1.02289690e+01, 0.00000000e+00,\n",
              "       3.27496852e+01, 1.83009395e+01, 4.69186714e-01, 0.00000000e+00,\n",
              "       0.00000000e+00, 8.12499327e+01, 0.00000000e+00, 0.00000000e+00,\n",
              "       1.45438632e+01, 1.83933754e+01, 8.60443171e+01, 6.52994590e+01,\n",
              "       0.00000000e+00, 0.00000000e+00, 0.00000000e+00, 1.37007360e+01,\n",
              "       0.00000000e+00, 7.63946306e+01, 5.22554590e+01, 0.00000000e+00,\n",
              "       0.00000000e+00, 0.00000000e+00, 3.47183721e+00, 0.00000000e+00,\n",
              "       1.50154129e+00, 5.10316059e+01, 4.54128882e+01, 6.84916338e+00,\n",
              "       3.56611483e+00, 0.00000000e+00, 5.26457663e+01, 0.00000000e+00,\n",
              "       3.69667174e+01, 0.00000000e+00, 9.73373858e+01, 1.39817970e+01,\n",
              "       0.00000000e+00, 0.00000000e+00, 0.00000000e+00, 2.73031295e+01,\n",
              "       1.17282773e+01, 1.04148247e+01, 0.00000000e+00, 2.86217152e+01,\n",
              "       5.07605423e+01, 0.00000000e+00, 0.00000000e+00, 5.53672052e+01,\n",
              "       4.69378252e+01, 0.00000000e+00, 0.00000000e+00, 5.94851687e+01,\n",
              "       3.65922253e+00, 6.97117325e+01, 0.00000000e+00, 3.21884069e+01,\n",
              "       2.81520058e-01, 6.10004500e+00, 1.77537525e+01, 0.00000000e+00,\n",
              "       0.00000000e+00, 3.52825362e+01, 1.83933754e+01, 1.05086520e+01,\n",
              "       0.00000000e+00, 0.00000000e+00, 0.00000000e+00, 6.77544443e+01,\n",
              "       9.31306454e+01, 1.35118666e+01, 0.00000000e+00, 0.00000000e+00,\n",
              "       1.59499312e+01, 4.91676408e+01, 0.00000000e+00, 1.32294968e+01,\n",
              "       0.00000000e+00, 0.00000000e+00, 7.22477767e+00, 0.00000000e+00,\n",
              "       0.00000000e+00, 2.15812164e+00, 0.00000000e+00, 9.10942422e+01,\n",
              "       8.23748922e+01, 1.06986580e+01, 4.22324731e+00, 0.00000000e+00,\n",
              "       8.16368859e+00, 0.00000000e+00, 8.53734120e+01, 3.62664248e+01,\n",
              "       0.00000000e+00, 3.15231837e+01, 0.00000000e+00, 6.85036802e+00,\n",
              "       1.93318129e+01, 0.00000000e+00, 6.84005188e+01, 1.94230947e+01,\n",
              "       9.73373858e+01, 5.07666800e+01, 8.36037556e+01, 0.00000000e+00,\n",
              "       0.00000000e+00, 0.00000000e+00, 0.00000000e+00, 0.00000000e+00,\n",
              "       0.00000000e+00, 3.18112838e+01, 0.00000000e+00, 8.75891797e+01,\n",
              "       4.78565263e+00, 2.88112984e+01, 7.88070928e+00, 0.00000000e+00,\n",
              "       0.00000000e+00, 1.00412815e+01, 0.00000000e+00, 0.00000000e+00,\n",
              "       0.00000000e+00, 0.00000000e+00, 8.33121870e+01, 7.06577408e+01,\n",
              "       0.00000000e+00, 0.00000000e+00, 7.11012376e+01, 0.00000000e+00,\n",
              "       0.00000000e+00, 6.38119279e+00, 3.13441576e+01, 3.94074450e+01,\n",
              "       0.00000000e+00, 7.88192218e+01, 3.57505400e+01, 0.00000000e+00,\n",
              "       4.97396484e+00, 9.04464863e+01, 0.00000000e+00, 0.00000000e+00,\n",
              "       0.00000000e+00, 2.33893366e+01, 1.97068269e+00, 0.00000000e+00,\n",
              "       5.63103767e+00, 0.00000000e+00, 0.00000000e+00, 2.90904263e+00,\n",
              "       0.00000000e+00, 7.34731973e+01, 7.55276152e+01, 0.00000000e+00,\n",
              "       4.40990014e+00, 5.09537971e+01, 0.00000000e+00, 0.00000000e+00,\n",
              "       7.60046673e+00, 0.00000000e+00, 1.21053118e+01, 6.10795255e+01,\n",
              "       4.31686004e+00, 3.39938552e+01, 0.00000000e+00, 0.00000000e+00,\n",
              "       0.00000000e+00, 0.00000000e+00, 0.00000000e+00, 0.00000000e+00,\n",
              "       0.00000000e+00, 0.00000000e+00, 7.06577408e+01, 4.03523065e+00,\n",
              "       3.93646301e+01, 4.72925727e+01, 4.66300929e+01, 0.00000000e+00,\n",
              "       0.00000000e+00, 0.00000000e+00, 1.61404158e+01, 0.00000000e+00,\n",
              "       0.00000000e+00, 0.00000000e+00, 0.00000000e+00, 1.35120151e+01,\n",
              "       3.18060392e+01, 0.00000000e+00, 7.46955217e+01, 8.80696453e+01,\n",
              "       1.79243536e+01, 8.02722472e+01, 3.86099085e+01, 6.55866896e+01,\n",
              "       1.42161501e+01, 3.15339265e+01, 3.35036923e+01, 0.00000000e+00,\n",
              "       0.00000000e+00, 0.00000000e+00, 8.25752409e+00, 0.00000000e+00,\n",
              "       0.00000000e+00, 0.00000000e+00, 0.00000000e+00, 5.05823382e+01,\n",
              "       0.00000000e+00, 7.66568633e+01, 0.00000000e+00, 7.66492796e+01,\n",
              "       0.00000000e+00, 0.00000000e+00, 2.23321128e+01, 0.00000000e+00,\n",
              "       1.21053118e+01, 0.00000000e+00, 0.00000000e+00, 4.21979564e+01,\n",
              "       1.58585483e+01, 1.14465470e+01, 0.00000000e+00, 3.35011149e+01,\n",
              "       0.00000000e+00, 1.52021866e+01, 2.25180449e+01, 0.00000000e+00,\n",
              "       4.04479907e+01, 0.00000000e+00, 2.72152863e+01, 0.00000000e+00,\n",
              "       0.00000000e+00, 0.00000000e+00, 4.88006281e+00, 3.28437790e+00,\n",
              "       0.00000000e+00, 6.70835340e+01, 3.71271636e+01, 0.00000000e+00,\n",
              "       2.82491425e+01, 0.00000000e+00, 0.00000000e+00, 6.84005188e+01,\n",
              "       0.00000000e+00, 4.80432485e+01, 4.13789543e+01, 0.00000000e+00,\n",
              "       0.00000000e+00, 0.00000000e+00, 0.00000000e+00, 0.00000000e+00,\n",
              "       0.00000000e+00, 0.00000000e+00, 0.00000000e+00, 5.16155763e+00,\n",
              "       0.00000000e+00, 3.70654303e+01, 0.00000000e+00, 0.00000000e+00,\n",
              "       6.18389545e+01, 7.99355446e+01, 8.71626408e+01, 8.58472152e+01,\n",
              "       0.00000000e+00, 1.76416559e+01, 0.00000000e+00, 3.05910458e+01,\n",
              "       0.00000000e+00, 0.00000000e+00, 0.00000000e+00, 3.15339265e+01,\n",
              "       0.00000000e+00, 0.00000000e+00, 0.00000000e+00, 0.00000000e+00,\n",
              "       4.88006281e+00, 3.98831563e+01, 0.00000000e+00, 0.00000000e+00,\n",
              "       1.87681316e+00, 3.64996027e+01, 0.00000000e+00, 4.27885182e+01,\n",
              "       0.00000000e+00, 0.00000000e+00, 0.00000000e+00, 0.00000000e+00,\n",
              "       0.00000000e+00, 1.73607125e+01, 0.00000000e+00, 0.00000000e+00,\n",
              "       0.00000000e+00, 6.23930637e+01, 0.00000000e+00, 2.83013422e+01,\n",
              "       4.56051774e+01, 0.00000000e+00, 4.75793052e+01, 3.56611483e+00,\n",
              "       0.00000000e+00, 8.10711995e+01, 2.38315976e+01, 0.00000000e+00,\n",
              "       3.65962476e+00, 0.00000000e+00, 2.84312193e+01, 0.00000000e+00,\n",
              "       9.47733919e+00, 3.88483244e+01, 0.00000000e+00, 0.00000000e+00,\n",
              "       0.00000000e+00, 0.00000000e+00, 0.00000000e+00, 4.47600074e+01,\n",
              "       0.00000000e+00, 0.00000000e+00, 3.20878613e+01, 3.80347977e+01,\n",
              "       1.01333430e+01, 0.00000000e+00, 1.25742335e+01, 6.30449812e+01,\n",
              "       0.00000000e+00, 0.00000000e+00, 6.78363561e+01, 3.17150049e+01,\n",
              "       0.00000000e+00, 0.00000000e+00, 6.98097760e+01, 0.00000000e+00,\n",
              "       0.00000000e+00, 8.80696453e+01, 0.00000000e+00, 4.01589459e+01,\n",
              "       6.37948153e+00, 0.00000000e+00, 2.34594554e+00, 7.58090846e+01,\n",
              "       8.58472152e+01, 0.00000000e+00, 2.83380098e+01, 0.00000000e+00,\n",
              "       0.00000000e+00, 0.00000000e+00, 2.73981593e+01, 7.26326692e+01,\n",
              "       0.00000000e+00, 0.00000000e+00, 2.93701890e+01, 2.12999564e+01,\n",
              "       1.17296955e+01, 8.05887482e+01, 0.00000000e+00, 2.09234767e+01,\n",
              "       8.72785261e+00, 0.00000000e+00, 0.00000000e+00, 0.00000000e+00,\n",
              "       0.00000000e+00, 0.00000000e+00, 8.78145831e+01, 3.40620997e+01,\n",
              "       0.00000000e+00, 4.75761677e+01, 0.00000000e+00, 2.78691438e+01,\n",
              "       7.60042496e+00, 0.00000000e+00, 0.00000000e+00, 0.00000000e+00,\n",
              "       0.00000000e+00, 0.00000000e+00, 3.57505400e+01, 0.00000000e+00,\n",
              "       0.00000000e+00, 0.00000000e+00, 1.43582519e+01, 2.32712043e+01,\n",
              "       2.90883659e+01, 2.42108897e+01, 9.73373858e+01, 5.36644674e+01,\n",
              "       4.59819224e+00, 7.99177307e+01, 0.00000000e+00, 5.50784120e+01,\n",
              "       0.00000000e+00, 1.12283222e+01, 2.23321128e+01, 1.01354594e+01,\n",
              "       0.00000000e+00, 2.38370989e+01, 5.05712200e+01, 8.95971440e+01,\n",
              "       2.65583656e+01, 7.50733514e-01, 6.16478913e+01, 0.00000000e+00,\n",
              "       3.65056207e+01, 0.00000000e+00, 8.91456856e+00, 0.00000000e+00,\n",
              "       0.00000000e+00, 5.28276451e+01, 0.00000000e+00, 0.00000000e+00,\n",
              "       6.59874596e+01, 0.00000000e+00, 2.98410012e+01, 0.00000000e+00,\n",
              "       5.59253439e+01, 0.00000000e+00, 4.25018754e+01, 1.64188663e+01,\n",
              "       3.57505400e+01, 0.00000000e+00, 1.05090370e+01, 5.63058902e-01,\n",
              "       0.00000000e+00, 2.81520058e-01, 3.14373114e+01, 9.29078671e+00,\n",
              "       0.00000000e+00, 0.00000000e+00, 0.00000000e+00, 1.82068884e+01,\n",
              "       2.38370989e+01, 1.87673323e-01, 2.39241078e+01, 6.28646030e+00,\n",
              "       2.73981593e+01, 6.56871277e-01, 8.35264468e+00, 8.62228580e+01,\n",
              "       0.00000000e+00, 6.25903430e+01, 6.17362946e+01, 0.00000000e+00,\n",
              "       0.00000000e+00, 0.00000000e+00, 7.22607479e+00, 8.25743333e+00,\n",
              "       0.00000000e+00, 0.00000000e+00, 0.00000000e+00, 0.00000000e+00,\n",
              "       0.00000000e+00, 5.04365808e+01, 0.00000000e+00, 0.00000000e+00,\n",
              "       2.81491032e+00, 9.94721906e+00, 0.00000000e+00, 0.00000000e+00,\n",
              "       0.00000000e+00, 7.79695877e+01, 0.00000000e+00, 0.00000000e+00,\n",
              "       6.97117325e+01, 4.90759670e+01, 1.86710070e+01, 0.00000000e+00,\n",
              "       7.77845003e+01, 3.58420095e+01, 0.00000000e+00, 6.94344718e+01,\n",
              "       0.00000000e+00, 0.00000000e+00, 9.53609461e+01, 0.00000000e+00,\n",
              "       1.12623022e+01, 0.00000000e+00, 1.50118649e+01, 1.69836656e+01,\n",
              "       7.24378219e+01, 2.52423047e+01, 1.84863048e+01, 9.96552493e+00,\n",
              "       0.00000000e+00, 0.00000000e+00, 0.00000000e+00, 0.00000000e+00,\n",
              "       0.00000000e+00, 7.07204613e+01, 3.58420095e+01, 7.99447620e+01,\n",
              "       0.00000000e+00, 0.00000000e+00, 0.00000000e+00, 5.18898913e+01,\n",
              "       0.00000000e+00, 1.68877911e+01, 0.00000000e+00, 3.62256788e+01,\n",
              "       2.34637743e+00, 3.75366757e+00, 0.00000000e+00, 8.85641594e+01,\n",
              "       2.83348951e+01, 0.00000000e+00, 0.00000000e+00, 0.00000000e+00,\n",
              "       0.00000000e+00, 0.00000000e+00, 0.00000000e+00, 7.82605282e+01,\n",
              "       0.00000000e+00, 1.59529118e+01, 0.00000000e+00, 1.78289847e+00,\n",
              "       0.00000000e+00, 0.00000000e+00, 6.38137514e+00, 7.32009422e+00,\n",
              "       0.00000000e+00, 6.36176726e+01, 4.94556573e+01, 4.06343446e+01,\n",
              "       2.23340766e+01, 0.00000000e+00, 0.00000000e+00, 7.68495859e+01,\n",
              "       0.00000000e+00, 2.49564024e+01, 1.06986580e+01, 7.55276152e+01,\n",
              "       0.00000000e+00, 0.00000000e+00, 1.67026274e+01, 3.80347977e+01,\n",
              "       9.10064299e+01, 1.73599493e+01, 6.94390340e+00, 4.47575661e+01,\n",
              "       7.11012376e+01, 6.38123487e+01, 3.17118675e+01, 3.35897863e+01,\n",
              "       3.93157785e+01, 0.00000000e+00, 6.07973847e+01, 2.62752238e+00,\n",
              "       4.85081550e+01, 6.28642575e+01, 9.53609461e+01, 3.59391170e+01,\n",
              "       1.79868518e+01, 0.00000000e+00, 0.00000000e+00, 2.15802892e+01,\n",
              "       0.00000000e+00, 0.00000000e+00, 0.00000000e+00, 1.90502817e+01,\n",
              "       8.36856271e+01, 2.58056137e+01, 0.00000000e+00, 0.00000000e+00,\n",
              "       3.75350771e-01, 0.00000000e+00, 0.00000000e+00, 0.00000000e+00,\n",
              "       8.38806395e+01, 0.00000000e+00, 0.00000000e+00, 3.71271636e+01,\n",
              "       5.11364133e+01, 3.30302670e+01, 0.00000000e+00, 0.00000000e+00,\n",
              "       0.00000000e+00, 0.00000000e+00, 0.00000000e+00, 0.00000000e+00,\n",
              "       0.00000000e+00, 1.62346122e+01, 0.00000000e+00, 2.72110989e+00,\n",
              "       3.96024986e+01, 2.56173733e+01, 3.60316442e+01, 0.00000000e+00,\n",
              "       0.00000000e+00, 0.00000000e+00, 4.44750942e+01, 8.35973229e+01,\n",
              "       1.85810629e+01, 0.00000000e+00, 0.00000000e+00, 2.12338220e+01,\n",
              "       0.00000000e+00, 0.00000000e+00, 2.73079316e+01, 0.00000000e+00,\n",
              "       0.00000000e+00, 3.00276904e+00, 0.00000000e+00, 4.09131778e+01,\n",
              "       7.99177307e+01, 0.00000000e+00, 2.12999564e+01, 4.10090544e+01,\n",
              "       7.90955023e+01, 8.35936471e+01, 9.19537372e+00, 6.46441328e+01,\n",
              "       6.16424704e+01, 3.28437790e+00, 0.00000000e+00, 0.00000000e+00,\n",
              "       0.00000000e+00, 1.16358579e+01, 6.93337646e+01, 0.00000000e+00,\n",
              "       3.65978566e+01, 0.00000000e+00, 0.00000000e+00, 9.38367259e-02,\n",
              "       0.00000000e+00, 0.00000000e+00, 0.00000000e+00, 0.00000000e+00,\n",
              "       6.23999223e+01, 0.00000000e+00, 2.15812164e+01, 1.67030863e+01,\n",
              "       0.00000000e+00, 0.00000000e+00, 7.99177307e+01, 0.00000000e+00,\n",
              "       5.55518377e+01, 0.00000000e+00, 8.50900903e+01, 8.15287101e+01,\n",
              "       0.00000000e+00, 9.73373858e+01, 2.24248736e+01, 3.89430170e+01,\n",
              "       2.22390137e+01, 2.59884341e+01, 0.00000000e+00, 0.00000000e+00,\n",
              "       3.75350771e-01, 1.76408803e+01, 1.73588045e+01, 1.47599568e+01,\n",
              "       3.39938552e+01, 5.35800711e+01, 6.16424704e+01, 0.00000000e+00,\n",
              "       9.10942422e+01, 2.57081013e+01, 0.00000000e+00, 0.00000000e+00,\n",
              "       6.28822240e+00, 0.00000000e+00, 0.00000000e+00, 0.00000000e+00,\n",
              "       0.00000000e+00, 5.16155763e+00, 0.00000000e+00, 0.00000000e+00,\n",
              "       8.57533931e+01, 7.07204613e+01, 8.99704419e+01, 0.00000000e+00,\n",
              "       0.00000000e+00, 0.00000000e+00, 0.00000000e+00, 0.00000000e+00,\n",
              "       0.00000000e+00, 0.00000000e+00, 6.56927923e+00, 0.00000000e+00,\n",
              "       0.00000000e+00, 1.56707009e+01, 0.00000000e+00, 0.00000000e+00,\n",
              "       0.00000000e+00, 1.18252224e+01, 0.00000000e+00, 2.62752238e+00,\n",
              "       6.97117325e+01, 5.81888813e+00, 5.07605423e+01, 2.66554334e+01,\n",
              "       5.10316059e+01, 0.00000000e+00, 6.42368601e+01, 0.00000000e+00,\n",
              "       1.96819504e+01, 0.00000000e+00, 9.40784227e+01, 0.00000000e+00,\n",
              "       0.00000000e+00, 0.00000000e+00, 0.00000000e+00, 0.00000000e+00,\n",
              "       4.60712054e+01, 1.45460214e+01, 7.21571209e+01, 0.00000000e+00,\n",
              "       0.00000000e+00, 1.21986151e+01, 3.35964325e+01, 0.00000000e+00,\n",
              "       1.40760511e+00, 0.00000000e+00, 2.34570703e+01, 2.66513327e+01,\n",
              "       0.00000000e+00, 0.00000000e+00, 0.00000000e+00, 0.00000000e+00,\n",
              "       0.00000000e+00, 8.60320221e+01, 0.00000000e+00, 2.98419852e+01,\n",
              "       7.60046673e+00, 4.53240415e+01, 0.00000000e+00, 0.00000000e+00,\n",
              "       1.82022864e+01, 0.00000000e+00, 7.06577408e+01, 6.17362946e+01,\n",
              "       5.10316059e+01, 0.00000000e+00, 4.35358440e+01, 0.00000000e+00,\n",
              "       0.00000000e+00, 0.00000000e+00, 6.00507602e+01, 0.00000000e+00,\n",
              "       1.14953512e+01, 5.10316059e+01, 5.30153099e+01, 0.00000000e+00,\n",
              "       1.73609033e+01, 0.00000000e+00, 9.41310428e+01, 8.46256674e+01,\n",
              "       6.89577223e+01, 2.83405016e+01, 1.28537681e+01, 3.01202026e+01,\n",
              "       8.31355125e+01, 0.00000000e+00, 0.00000000e+00, 6.02483509e+01,\n",
              "       9.13766914e+01, 0.00000000e+00, 6.04307268e+01, 3.35897863e+01,\n",
              "       2.48675010e+01, 7.07204613e+01, 3.95678296e+01, 1.82034127e+01])"
            ]
          },
          "metadata": {
            "tags": []
          },
          "execution_count": 81
        }
      ]
    },
    {
      "cell_type": "code",
      "metadata": {
        "colab": {
          "base_uri": "https://localhost:8080/",
          "height": 195
        },
        "id": "QL2X_2pUiFhR",
        "outputId": "ec703c13-d086-4c3c-fa66-a4268b6a6296"
      },
      "source": [
        "sample = pd.read_csv('sample_submission.csv')\n",
        "\n",
        "sample.head()"
      ],
      "execution_count": 29,
      "outputs": [
        {
          "output_type": "execute_result",
          "data": {
            "text/html": [
              "<div>\n",
              "<style scoped>\n",
              "    .dataframe tbody tr th:only-of-type {\n",
              "        vertical-align: middle;\n",
              "    }\n",
              "\n",
              "    .dataframe tbody tr th {\n",
              "        vertical-align: top;\n",
              "    }\n",
              "\n",
              "    .dataframe thead th {\n",
              "        text-align: right;\n",
              "    }\n",
              "</style>\n",
              "<table border=\"1\" class=\"dataframe\">\n",
              "  <thead>\n",
              "    <tr style=\"text-align: right;\">\n",
              "      <th></th>\n",
              "      <th>INDEX</th>\n",
              "      <th>TARGET</th>\n",
              "    </tr>\n",
              "  </thead>\n",
              "  <tbody>\n",
              "    <tr>\n",
              "      <th>0</th>\n",
              "      <td>0</td>\n",
              "      <td>0</td>\n",
              "    </tr>\n",
              "    <tr>\n",
              "      <th>1</th>\n",
              "      <td>1</td>\n",
              "      <td>0</td>\n",
              "    </tr>\n",
              "    <tr>\n",
              "      <th>2</th>\n",
              "      <td>2</td>\n",
              "      <td>0</td>\n",
              "    </tr>\n",
              "    <tr>\n",
              "      <th>3</th>\n",
              "      <td>3</td>\n",
              "      <td>0</td>\n",
              "    </tr>\n",
              "    <tr>\n",
              "      <th>4</th>\n",
              "      <td>4</td>\n",
              "      <td>0</td>\n",
              "    </tr>\n",
              "  </tbody>\n",
              "</table>\n",
              "</div>"
            ],
            "text/plain": [
              "   INDEX  TARGET\n",
              "0      0       0\n",
              "1      1       0\n",
              "2      2       0\n",
              "3      3       0\n",
              "4      4       0"
            ]
          },
          "metadata": {
            "tags": []
          },
          "execution_count": 29
        }
      ]
    },
    {
      "cell_type": "code",
      "metadata": {
        "colab": {
          "base_uri": "https://localhost:8080/",
          "height": 639
        },
        "id": "49BeikbRia1n",
        "outputId": "32a9614e-5fcc-455f-ed24-000bef14c7b6"
      },
      "source": [
        "sample['TARGET'] = test_pred\n",
        "sample.head(20)\n"
      ],
      "execution_count": 82,
      "outputs": [
        {
          "output_type": "execute_result",
          "data": {
            "text/html": [
              "<div>\n",
              "<style scoped>\n",
              "    .dataframe tbody tr th:only-of-type {\n",
              "        vertical-align: middle;\n",
              "    }\n",
              "\n",
              "    .dataframe tbody tr th {\n",
              "        vertical-align: top;\n",
              "    }\n",
              "\n",
              "    .dataframe thead th {\n",
              "        text-align: right;\n",
              "    }\n",
              "</style>\n",
              "<table border=\"1\" class=\"dataframe\">\n",
              "  <thead>\n",
              "    <tr style=\"text-align: right;\">\n",
              "      <th></th>\n",
              "      <th>INDEX</th>\n",
              "      <th>TARGET</th>\n",
              "    </tr>\n",
              "  </thead>\n",
              "  <tbody>\n",
              "    <tr>\n",
              "      <th>0</th>\n",
              "      <td>0</td>\n",
              "      <td>14.169161</td>\n",
              "    </tr>\n",
              "    <tr>\n",
              "      <th>1</th>\n",
              "      <td>1</td>\n",
              "      <td>30.212042</td>\n",
              "    </tr>\n",
              "    <tr>\n",
              "      <th>2</th>\n",
              "      <td>2</td>\n",
              "      <td>0.000000</td>\n",
              "    </tr>\n",
              "    <tr>\n",
              "      <th>3</th>\n",
              "      <td>3</td>\n",
              "      <td>0.000000</td>\n",
              "    </tr>\n",
              "    <tr>\n",
              "      <th>4</th>\n",
              "      <td>4</td>\n",
              "      <td>0.000000</td>\n",
              "    </tr>\n",
              "    <tr>\n",
              "      <th>5</th>\n",
              "      <td>5</td>\n",
              "      <td>0.000000</td>\n",
              "    </tr>\n",
              "    <tr>\n",
              "      <th>6</th>\n",
              "      <td>6</td>\n",
              "      <td>0.000000</td>\n",
              "    </tr>\n",
              "    <tr>\n",
              "      <th>7</th>\n",
              "      <td>7</td>\n",
              "      <td>21.394965</td>\n",
              "    </tr>\n",
              "    <tr>\n",
              "      <th>8</th>\n",
              "      <td>8</td>\n",
              "      <td>62.864257</td>\n",
              "    </tr>\n",
              "    <tr>\n",
              "      <th>9</th>\n",
              "      <td>9</td>\n",
              "      <td>0.000000</td>\n",
              "    </tr>\n",
              "    <tr>\n",
              "      <th>10</th>\n",
              "      <td>10</td>\n",
              "      <td>1.313715</td>\n",
              "    </tr>\n",
              "    <tr>\n",
              "      <th>11</th>\n",
              "      <td>11</td>\n",
              "      <td>0.000000</td>\n",
              "    </tr>\n",
              "    <tr>\n",
              "      <th>12</th>\n",
              "      <td>12</td>\n",
              "      <td>0.000000</td>\n",
              "    </tr>\n",
              "    <tr>\n",
              "      <th>13</th>\n",
              "      <td>13</td>\n",
              "      <td>2.814910</td>\n",
              "    </tr>\n",
              "    <tr>\n",
              "      <th>14</th>\n",
              "      <td>14</td>\n",
              "      <td>2.345946</td>\n",
              "    </tr>\n",
              "    <tr>\n",
              "      <th>15</th>\n",
              "      <td>15</td>\n",
              "      <td>0.750734</td>\n",
              "    </tr>\n",
              "    <tr>\n",
              "      <th>16</th>\n",
              "      <td>16</td>\n",
              "      <td>0.000000</td>\n",
              "    </tr>\n",
              "    <tr>\n",
              "      <th>17</th>\n",
              "      <td>17</td>\n",
              "      <td>0.000000</td>\n",
              "    </tr>\n",
              "    <tr>\n",
              "      <th>18</th>\n",
              "      <td>18</td>\n",
              "      <td>0.000000</td>\n",
              "    </tr>\n",
              "    <tr>\n",
              "      <th>19</th>\n",
              "      <td>19</td>\n",
              "      <td>0.000000</td>\n",
              "    </tr>\n",
              "  </tbody>\n",
              "</table>\n",
              "</div>"
            ],
            "text/plain": [
              "    INDEX     TARGET\n",
              "0       0  14.169161\n",
              "1       1  30.212042\n",
              "2       2   0.000000\n",
              "3       3   0.000000\n",
              "4       4   0.000000\n",
              "5       5   0.000000\n",
              "6       6   0.000000\n",
              "7       7  21.394965\n",
              "8       8  62.864257\n",
              "9       9   0.000000\n",
              "10     10   1.313715\n",
              "11     11   0.000000\n",
              "12     12   0.000000\n",
              "13     13   2.814910\n",
              "14     14   2.345946\n",
              "15     15   0.750734\n",
              "16     16   0.000000\n",
              "17     17   0.000000\n",
              "18     18   0.000000\n",
              "19     19   0.000000"
            ]
          },
          "metadata": {
            "tags": []
          },
          "execution_count": 82
        }
      ]
    },
    {
      "cell_type": "code",
      "metadata": {
        "id": "lp6YRBaSifJD"
      },
      "source": [
        "sample.to_csv('sample_submission.csv', mode='w', index=False)"
      ],
      "execution_count": 83,
      "outputs": []
    },
    {
      "cell_type": "code",
      "metadata": {
        "id": "6Hnfhh2zi5IX"
      },
      "source": [
        ""
      ],
      "execution_count": null,
      "outputs": []
    }
  ]
}