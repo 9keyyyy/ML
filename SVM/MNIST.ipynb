{
  "nbformat": 4,
  "nbformat_minor": 0,
  "metadata": {
    "kernelspec": {
      "language": "python",
      "display_name": "Python 3",
      "name": "python3"
    },
    "language_info": {
      "pygments_lexer": "ipython3",
      "nbconvert_exporter": "python",
      "version": "3.6.4",
      "file_extension": ".py",
      "codemirror_mode": {
        "name": "ipython",
        "version": 3
      },
      "name": "python",
      "mimetype": "text/x-python"
    },
    "colab": {
      "name": "10주차과제-MNIST",
      "provenance": []
    }
  },
  "cells": [
    {
      "cell_type": "code",
      "metadata": {
        "_uuid": "8f2839f25d086af736a60e9eeb907d3b93b6e0e5",
        "_cell_guid": "b1076dfc-b9ad-4769-8c92-a6c4dae69d19",
        "trusted": true,
        "id": "fg0xDkbVTcCd"
      },
      "source": [
        "%matplotlib inline\n",
        "import warnings  \n",
        "warnings.filterwarnings('ignore')\n",
        "\n",
        "import os\n",
        "import json\n",
        "import glob\n",
        "from tqdm.notebook import tqdm\n",
        "\n",
        "import numpy as np\n",
        "import pandas as pd\n",
        "\n",
        "import matplotlib.pyplot as plt\n",
        "import plotly.graph_objs as go\n",
        "\n",
        "from sklearn.svm import LinearSVC\n",
        "from sklearn.preprocessing import MinMaxScaler"
      ],
      "execution_count": null,
      "outputs": []
    },
    {
      "cell_type": "markdown",
      "metadata": {
        "id": "oanK4uDRTcCh"
      },
      "source": [
        "# [0] 파일 불러오기\n",
        "다운샘플링된 point cloud는 아래의 data tree로 구성된 json 파일로 제공됩니다.\n",
        "```\n",
        "data\n",
        "  ├ train\n",
        "  │    ├ \"points\" : train point cloud ( 5000, (약 1000 x 3) )\n",
        "  │    └ \"label\"  : 0 ~ 9 ( classification ) \n",
        "  └ test\n",
        "        └ \"points\" : test point cloud ( 1000, (약 1000 x 3) )\n",
        "```\n"
      ]
    },
    {
      "cell_type": "markdown",
      "metadata": {
        "id": "xx8pHSKsTcCj"
      },
      "source": [
        "## MNIST 3D Dataset\n",
        "\n",
        "MNIST 3D Dataset의 클래스는 10개(0 ~ 9)의 숫자로 구성됩니다.\n",
        "\n",
        "텀 프로젝트에서는 원본을 downsampling 하여 가공한 약 1000 여 개의 point cloud로 변환하여 제공합니다."
      ]
    },
    {
      "cell_type": "code",
      "metadata": {
        "trusted": true,
        "id": "-GkVyF7HTcCj"
      },
      "source": [
        "with open(\"../input/2021-ml-tp-7/mnist3D_data.json\", 'r') as j:\n",
        "    data = json.load(j)"
      ],
      "execution_count": null,
      "outputs": []
    },
    {
      "cell_type": "markdown",
      "metadata": {
        "id": "HJBDy9aRTcCk"
      },
      "source": [
        "## (cf) point cloud 시각화\n",
        "\n",
        "해당 셀에서는 graph_objs 라이브러리를 통해 제공되는 Raw 데이터가 어떻게 구성되어 있는지 3차원으로 시각화하여 확인할 수 있습니다.\n",
        "\n",
        "여러 방향으로 드래그 하여 여러 시각에서 데이터를 보는 것이 가능합니다.\n"
      ]
    },
    {
      "cell_type": "code",
      "metadata": {
        "trusted": true,
        "id": "JeI9LYf9TcCl"
      },
      "source": [
        "# 1720 번째 이미지에 대한 출력\n",
        "image_number = 1720\n",
        "\n",
        "digit = data[\"train\"][image_number][\"label\"]\n",
        "coordinate = np.array(data[\"train\"][image_number][\"points\"])\n",
        "\n",
        "layout = go.Layout(title = \"Digit \" + str(digit))\n",
        "plot_data = go.Scatter3d(x = coordinate[:,0], y = coordinate[:,1], z = coordinate[:,2],\n",
        "                    mode = 'markers', marker = dict(size = 3))\n",
        "\n",
        "fig = go.Figure(data = [plot_data], layout = layout)\n",
        "fig.show()"
      ],
      "execution_count": null,
      "outputs": []
    },
    {
      "cell_type": "markdown",
      "metadata": {
        "id": "T-KoF57BTcCm"
      },
      "source": [
        "# [1] Data Loader\n",
        "> 이번 실습문제에서는 3D 데이터를 Voxel 단위로 나눈 후, 이로부터 Feature를 추출하며 이를 기반으로 각 클래스를 분류합니다.\n",
        "> 클래스는 0부터 9까지 10가지로 분류됩니다."
      ]
    },
    {
      "cell_type": "code",
      "metadata": {
        "trusted": true,
        "id": "m2wPpmjQTcCn"
      },
      "source": [
        "from torch.utils.data import Dataset\n",
        "\n",
        "class MnistDataset(Dataset):\n",
        "    def __init__(self, data, mode='train'):\n",
        "        self.data = data[mode]\n",
        "    def __len__(self):\n",
        "        return len(self.data)\n",
        "    def __getitem__(self, idx):\n",
        "        xyz = np.array(self.data[idx]['points'], dtype=np.float32)\n",
        "        return {'points':xyz, 'label':self.data[idx]['label']}"
      ],
      "execution_count": null,
      "outputs": []
    },
    {
      "cell_type": "markdown",
      "metadata": {
        "id": "duEDTozWTcCn"
      },
      "source": [
        "# [2] Data Processing : Voxelization\n",
        "\n",
        "\n",
        "아래에는 Raw 데이터를 Voxel_Grid에 맞춰 Voxelization을 진행한 후, 이를 기반으로 Feature를 추출하기 위한 함수를 정의하였습니다.\n",
        "\n",
        "※ 주의사항: Voxelization 시 ( 8, 8, 8 ) 사이즈의 Voxel을 사용합니다."
      ]
    },
    {
      "cell_type": "code",
      "metadata": {
        "trusted": true,
        "id": "NaT-_P_TTcCo"
      },
      "source": [
        "# Voxel Grid 생성\n",
        "# 목표 : point_cloud를 사용자가 지정한 voxel_size 크기의 voxel_grid로 분할한다\n",
        "\n",
        "def VoxelGrid(points, voxel_size=[1, 1, 1]):\n",
        "\n",
        "    # Voxel Grid를 구하기 위해 각 축 별 최대, 최소값 계산\n",
        "    min_xyz  = np.min(points, axis=0) - 0.001\n",
        "    max_xyz  = np.max(points, axis=0) + 0.001\n",
        "\n",
        "    diff = max(max_xyz - min_xyz ) - ( max_xyz - min_xyz )\n",
        "    min_xyz  = min_xyz  - diff / 2\n",
        "    max_xyz  = max_xyz  + diff / 2\n",
        "\n",
        "    # voxel_grid\n",
        "    voxel_grid = []\n",
        "\n",
        "    # point cloud를 각 축 (x,y,z) 에 대한 voxel grid 로 분할\n",
        "    for i in range(3):\n",
        "        # Voxel_size는 정수만 가능\n",
        "        if type(voxel_size[i]) is not int:\n",
        "            raise TypeError(\"voxel_size[{}] must be int\".format(i))\n",
        "        segment = np.linspace( min_xyz[i], max_xyz[i], num=(voxel_size[i] + 1))\n",
        "        voxel_grid.append(segment)\n",
        "\n",
        "    return voxel_grid # 생성한 voxel_grid 를 반환"
      ],
      "execution_count": null,
      "outputs": []
    },
    {
      "cell_type": "code",
      "metadata": {
        "trusted": true,
        "id": "b74yajZSTcCp"
      },
      "source": [
        "# Voxelization (복셀화) 및 Voxel_Vector 추출\n",
        "# 목표: 생성한 voxel_grid에 맞추어 point cloud를 각 grid에 맞춰 Voxelization하고, 이를 통해 voxel_vector \n",
        "\n",
        "def VoxelVector(points, voxel_grid, voxel_size=[1, 1, 1]):\n",
        "\n",
        "    n_voxels = voxel_size[0] * voxel_size[1] * voxel_size[2]\n",
        "    n_x = voxel_size[0]\n",
        "    n_y = voxel_size[1]\n",
        "    n_z = voxel_size[2]\n",
        "\n",
        "    voxelization = np.zeros((len(points), 4), dtype=int)\n",
        "\n",
        "    # Voxelization\n",
        "    voxelization[:,0] = np.searchsorted(voxel_grid[0], points[:,0]) - 1\n",
        "    voxelization[:,1] = np.searchsorted(voxel_grid[1], points[:,1]) - 1\n",
        "    voxelization[:,2] = np.searchsorted(voxel_grid[2], points[:,2]) - 1\n",
        "\n",
        "    voxelization[:,3] = ((voxelization[:,1] * n_x) + voxelization[:,0]) + (voxelization[:,2] * (n_x * n_y)) \n",
        "\n",
        "    # Voxelization으로부터 voxel_vector 추출\n",
        "    vector = np.zeros(n_voxels)\n",
        "    count = np.bincount(voxelization[:,3])\n",
        "    vector[:len(count)] = count\n",
        "\n",
        "    vector = vector.reshape(n_z, n_y, n_x)\n",
        "\n",
        "    return vector # 추출한 Vector 반환\n"
      ],
      "execution_count": null,
      "outputs": []
    },
    {
      "cell_type": "code",
      "metadata": {
        "trusted": true,
        "id": "Sg1Z-I6jTcCq"
      },
      "source": [
        "# Voxel_Feature 추출\n",
        "# 목표: 추출한 voxel_vector로부터 classification에 feature로 활용할 수 있는 voxel_feature를 추출한다\n",
        "\n",
        "def VoxelFeature(dataset):\n",
        "    \n",
        "    voxel_vectors = []\n",
        "    labels = []\n",
        "\n",
        "    for i, pc in enumerate(tqdm(dataset)):\n",
        "\n",
        "        # point cloud를 np.array(dtype=np.float32)로 변경\n",
        "        pointcloud = np.array(pc['points'], dtype = np.float32)   \n",
        "\n",
        "        voxel_grid = VoxelGrid(pointcloud, voxel_size=[8, 8, 8])\n",
        "        \n",
        "        vector = VoxelVector(pointcloud, voxel_grid, voxel_size=[8, 8, 8])\n",
        "\n",
        "        voxel_vectors.append(vector.reshape(-1) / np.max(vector))\n",
        "        \n",
        "        labels.append(pc['label'])\n",
        "\n",
        "    return np.array(voxel_vectors), np.array(labels)"
      ],
      "execution_count": null,
      "outputs": []
    },
    {
      "cell_type": "markdown",
      "metadata": {
        "id": "jAX9_MSGTcCr"
      },
      "source": [
        "# [3] Model / Evauation\n"
      ]
    },
    {
      "cell_type": "code",
      "metadata": {
        "trusted": true,
        "id": "Rkkzu4I7TcCs"
      },
      "source": [
        "# [1] 데이터 불러온 후\n",
        "mnist_train = MnistDataset(data, mode = \"train\")\n",
        "mnist_test = MnistDataset(data, mode = \"test\")\n",
        "\n",
        "# [2] 불러온 Raw 데이터를 가공합니다.\n",
        "x_train, y_train = VoxelFeature(mnist_train)\n",
        "x_test, _ = VoxelFeature(mnist_test)"
      ],
      "execution_count": null,
      "outputs": []
    },
    {
      "cell_type": "code",
      "metadata": {
        "trusted": true,
        "id": "2XoLz1K7TcCt"
      },
      "source": [
        "print(x_train.shape)\n",
        "print(y_train.shape)\n",
        "print(x_test.shape)"
      ],
      "execution_count": null,
      "outputs": []
    },
    {
      "cell_type": "markdown",
      "metadata": {
        "id": "M9NcQOIbTcCt"
      },
      "source": [
        "여기서부터 불러온 x_train, y_train, 그리고 x_test를 바탕으로 모델에 적용해봅시다."
      ]
    },
    {
      "cell_type": "code",
      "metadata": {
        "trusted": true,
        "id": "A_59pILhTcCu"
      },
      "source": [
        "X = x_train\n",
        "y = y_train\n",
        "\n",
        "y"
      ],
      "execution_count": null,
      "outputs": []
    },
    {
      "cell_type": "code",
      "metadata": {
        "trusted": true,
        "id": "3aEGbGyUTcCu"
      },
      "source": [
        "from sklearn.model_selection import train_test_split #train set과 test set으로 데이터 나누기 위한 함수 호출\n",
        "X_train,X_test,y_train,y_test=train_test_split(X,y, test_size=0.33, random_state=0, stratify=y)"
      ],
      "execution_count": null,
      "outputs": []
    },
    {
      "cell_type": "code",
      "metadata": {
        "trusted": true,
        "id": "8xOdnjjMTcCw"
      },
      "source": [
        "# 표준화\n",
        "from sklearn.preprocessing import StandardScaler\n",
        "sc = StandardScaler()\n",
        "sc.fit(X_train)\n",
        "X_train_std = sc.transform(X_train)\n",
        "X_test_std = sc.transform(X_test)\n",
        "\n",
        "# 표준화\n",
        "sc = MinMaxScaler()\n",
        "sc.fit(X_train)\n",
        "X_train_m = sc.transform(X_train)\n",
        "X_test_m = sc.transform(X_test)"
      ],
      "execution_count": null,
      "outputs": []
    },
    {
      "cell_type": "code",
      "metadata": {
        "trusted": true,
        "id": "HIA9QbcBTcCw"
      },
      "source": [
        "from sklearn.svm import SVC\n",
        "clf = SVC(class_weight='balanced', C = 8, gamma = 0.07, kernel = 'rbf', random_state = 0)\n",
        "clf.fit(X_train_m, y_train)\n",
        "y_test_pred = clf.predict(X_test_m)\n",
        "print(clf.score(X_test_m, y_test))\n",
        "\n",
        "from sklearn import metrics\n",
        "print(metrics.classification_report(y_test,y_test_pred))   #classification_report\n",
        "#X.shape"
      ],
      "execution_count": null,
      "outputs": []
    },
    {
      "cell_type": "code",
      "metadata": {
        "trusted": true,
        "id": "srV8XmebTcCx"
      },
      "source": [
        "X.shape"
      ],
      "execution_count": null,
      "outputs": []
    },
    {
      "cell_type": "code",
      "metadata": {
        "trusted": true,
        "id": "7HHiRbSGTcCx"
      },
      "source": [
        "clf = SVC(class_weight='balanced', C = 8, gamma = 0.07, kernel = 'rbf', random_state = 0)\n",
        "# break_ties = True\n",
        "# decision_function_shape = 'ovo'\n",
        "clf.fit(X_train_m, y_train)\n",
        "y_test_pred = clf.predict(X_test_m)\n",
        "print(clf.score(X_test_m, y_test))\n",
        "\n",
        "from sklearn import metrics\n",
        "print(metrics.classification_report(y_test,y_test_pred))   #classification_report\n",
        "#X.shape"
      ],
      "execution_count": null,
      "outputs": []
    },
    {
      "cell_type": "code",
      "metadata": {
        "trusted": true,
        "id": "uPcJbp0ATcCx"
      },
      "source": [
        "from sklearn.model_selection import GridSearchCV\n",
        "from sklearn.svm import SVC\n",
        "param_grid={\n",
        "    'C':[1e3,5e3,1e4,5e4,1e5],\n",
        "    'gamma':[0.0001,0.0005,0.001,0.005,0.01,0.1],\n",
        "    'kernel':['rbf'],\n",
        "    'random_state':[0]\n",
        "}\n",
        "clf=GridSearchCV(SVC(class_weight='balanced'), param_grid, cv=5)   \n",
        "clf.fit(X_m,y)"
      ],
      "execution_count": null,
      "outputs": []
    },
    {
      "cell_type": "code",
      "metadata": {
        "trusted": true,
        "id": "GBG5vGBxTcCy"
      },
      "source": [
        "clf.best_params_"
      ],
      "execution_count": null,
      "outputs": []
    },
    {
      "cell_type": "code",
      "metadata": {
        "trusted": true,
        "id": "dr6EYvUPTcCy"
      },
      "source": [
        "param_grid={\n",
        "    'C':[100, 500, 1000],\n",
        "    'gamma':[0.08,0.1, 0.5],\n",
        "    'kernel':['rbf'],\n",
        "    'random_state':[0]\n",
        "}\n",
        "clf=GridSearchCV(SVC(class_weight='balanced'), param_grid, cv=5)   \n",
        "clf.fit(X_train_m,y_train)"
      ],
      "execution_count": null,
      "outputs": []
    },
    {
      "cell_type": "code",
      "metadata": {
        "trusted": true,
        "id": "4AkIABF7TcCz"
      },
      "source": [
        "clf.best_params_"
      ],
      "execution_count": null,
      "outputs": []
    },
    {
      "cell_type": "code",
      "metadata": {
        "trusted": true,
        "id": "hCkEngOGTcCz"
      },
      "source": [
        "param_grid={\n",
        "    'C':[100, 500, 800],\n",
        "    'gamma':[0.1, 0.2, 0.3],\n",
        "    'kernel':['rbf'],\n",
        "    'random_state':[0]\n",
        "}\n",
        "clf=GridSearchCV(SVC(class_weight='balanced'), param_grid, cv=3)   \n",
        "clf.fit(X_train_m,y_train)"
      ],
      "execution_count": null,
      "outputs": []
    },
    {
      "cell_type": "code",
      "metadata": {
        "trusted": true,
        "id": "fHpGNmxlTcC0"
      },
      "source": [
        "clf.best_params_"
      ],
      "execution_count": null,
      "outputs": []
    },
    {
      "cell_type": "code",
      "metadata": {
        "trusted": true,
        "id": "Gnvwl3mMTcC0"
      },
      "source": [
        "param_grid={\n",
        "    'C':[1, 10, 100, 200],\n",
        "    'gamma':[0.1, 0.12, 0.15],\n",
        "    'kernel':['rbf'],\n",
        "    'random_state':[0]\n",
        "}\n",
        "clf=GridSearchCV(SVC(class_weight='balanced'), param_grid, cv=3)   \n",
        "clf.fit(X_train_m,y_train)"
      ],
      "execution_count": null,
      "outputs": []
    },
    {
      "cell_type": "code",
      "metadata": {
        "trusted": true,
        "id": "7nGTIeyCTcC1"
      },
      "source": [
        "clf.best_params_"
      ],
      "execution_count": null,
      "outputs": []
    },
    {
      "cell_type": "code",
      "metadata": {
        "trusted": true,
        "id": "flHAj--ETcC1"
      },
      "source": [
        "param_grid={\n",
        "    'C':[5, 6, 7],\n",
        "    'gamma':[0.08, 0.1, 0.12],\n",
        "    'kernel':['rbf'],\n",
        "    'random_state':[0]\n",
        "}\n",
        "clf=GridSearchCV(SVC(class_weight='balanced'), param_grid, cv=3)   \n",
        "clf.fit(X_train_m,y_train)"
      ],
      "execution_count": null,
      "outputs": []
    },
    {
      "cell_type": "code",
      "metadata": {
        "trusted": true,
        "id": "22zrGsGWTcC1"
      },
      "source": [
        "clf.best_params_"
      ],
      "execution_count": null,
      "outputs": []
    },
    {
      "cell_type": "code",
      "metadata": {
        "trusted": true,
        "id": "fAyv7lDxTcC2"
      },
      "source": [
        "from sklearn.model_selection import GridSearchCV\n",
        "param_grid={\n",
        "    'C':[6, 7, 8],\n",
        "    'gamma':[0.07, 0.08],\n",
        "    'kernel':['rbf'],\n",
        "    'random_state':[0]\n",
        "}\n",
        "clf=GridSearchCV(SVC(class_weight='balanced'), param_grid, cv=5)   \n",
        "clf.fit(X,y)"
      ],
      "execution_count": null,
      "outputs": []
    },
    {
      "cell_type": "code",
      "metadata": {
        "trusted": true,
        "id": "RdoedmR1TcC2"
      },
      "source": [
        "clf.best_params_"
      ],
      "execution_count": null,
      "outputs": []
    },
    {
      "cell_type": "code",
      "metadata": {
        "trusted": true,
        "id": "8vKmYNgkTcC7"
      },
      "source": [
        "from sklearn.svm import SVC\n",
        "sc = MinMaxScaler()\n",
        "sc.fit(X)\n",
        "X_m = sc.transform(X)\n",
        "x_test_m= sc.transform(x_test)\n",
        "\n",
        "clf = SVC(class_weight='balanced', C = 8, gamma = 0.07, kernel = 'rbf', random_state = 0) #0.91500\n",
        "#clf = SVC(class_weight='balanced', C = 6, gamma = 0.08, kernel = 'rbf', random_state = 0) 0.91300\n",
        "#clf = SVC(class_weight='balanced', C = 11, gamma = 0.05, kernel = 'rbf', random_state = 0) 0.91300\n",
        "clf.fit(X_m, y)\n",
        "\n",
        "x_test_pred = clf.predict(x_test)"
      ],
      "execution_count": null,
      "outputs": []
    },
    {
      "cell_type": "code",
      "metadata": {
        "trusted": true,
        "id": "Avnhgm7RTcC8"
      },
      "source": [
        "import os\n",
        "for dirname, _, filenames in os.walk('/kaggle/input'):\n",
        "    for filename in filenames:\n",
        "        print(os.path.join(dirname, filename))\n",
        "        \n",
        "submit_csv = pd.read_csv('/kaggle/input/2021-ml-tp-7/sample_submit.csv')\n",
        "submit_csv.head()\n",
        "#submit_csv['Label'] = test_std\n",
        "#submit_csv['Label'] = submit_csv['Label'].astype(\"int\")\n",
        "#submit_csv.to_csv(\"./result-rf.csv\", mode='w', index=False) "
      ],
      "execution_count": null,
      "outputs": []
    },
    {
      "cell_type": "code",
      "metadata": {
        "trusted": true,
        "id": "toCqT_AyTcC8"
      },
      "source": [
        "submit_csv['Label'] = x_test_pred\n",
        "submit_csv.head()"
      ],
      "execution_count": null,
      "outputs": []
    },
    {
      "cell_type": "code",
      "metadata": {
        "trusted": true,
        "id": "FAjVKTC3TcC9"
      },
      "source": [
        "submit_csv.to_csv(\"./result-svm.csv\", mode='w', index=False) "
      ],
      "execution_count": null,
      "outputs": []
    },
    {
      "cell_type": "code",
      "metadata": {
        "id": "LCMmXx4rTcC9"
      },
      "source": [
        ""
      ],
      "execution_count": null,
      "outputs": []
    },
    {
      "cell_type": "code",
      "metadata": {
        "id": "xMv0fgyJTcC9"
      },
      "source": [
        ""
      ],
      "execution_count": null,
      "outputs": []
    }
  ]
}