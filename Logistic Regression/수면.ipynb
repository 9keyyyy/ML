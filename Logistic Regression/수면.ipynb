{
  "nbformat": 4,
  "nbformat_minor": 0,
  "metadata": {
    "colab": {
      "name": "6주차과제-수면.ipynb",
      "provenance": [],
      "collapsed_sections": []
    },
    "kernelspec": {
      "name": "python3",
      "display_name": "Python 3"
    },
    "language_info": {
      "name": "python"
    }
  },
  "cells": [
    {
      "cell_type": "code",
      "metadata": {
        "colab": {
          "resources": {
            "http://localhost:8080/nbextensions/google.colab/files.js": {
              "data": "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",
              "ok": true,
              "headers": [
                [
                  "content-type",
                  "application/javascript"
                ]
              ],
              "status": 200,
              "status_text": ""
            }
          },
          "base_uri": "https://localhost:8080/",
          "height": 307
        },
        "id": "mPINu-AHUBT9",
        "outputId": "b13db8d3-4a31-4b32-fce9-1640c81a6d4a"
      },
      "source": [
        "! pip install kaggle\n",
        "from google.colab import files\n",
        "files.upload()"
      ],
      "execution_count": null,
      "outputs": [
        {
          "output_type": "stream",
          "text": [
            "Requirement already satisfied: kaggle in /usr/local/lib/python3.7/dist-packages (1.5.12)\n",
            "Requirement already satisfied: six>=1.10 in /usr/local/lib/python3.7/dist-packages (from kaggle) (1.15.0)\n",
            "Requirement already satisfied: python-slugify in /usr/local/lib/python3.7/dist-packages (from kaggle) (4.0.1)\n",
            "Requirement already satisfied: tqdm in /usr/local/lib/python3.7/dist-packages (from kaggle) (4.41.1)\n",
            "Requirement already satisfied: urllib3 in /usr/local/lib/python3.7/dist-packages (from kaggle) (1.24.3)\n",
            "Requirement already satisfied: python-dateutil in /usr/local/lib/python3.7/dist-packages (from kaggle) (2.8.1)\n",
            "Requirement already satisfied: certifi in /usr/local/lib/python3.7/dist-packages (from kaggle) (2020.12.5)\n",
            "Requirement already satisfied: requests in /usr/local/lib/python3.7/dist-packages (from kaggle) (2.23.0)\n",
            "Requirement already satisfied: text-unidecode>=1.3 in /usr/local/lib/python3.7/dist-packages (from python-slugify->kaggle) (1.3)\n",
            "Requirement already satisfied: idna<3,>=2.5 in /usr/local/lib/python3.7/dist-packages (from requests->kaggle) (2.10)\n",
            "Requirement already satisfied: chardet<4,>=3.0.2 in /usr/local/lib/python3.7/dist-packages (from requests->kaggle) (3.0.4)\n"
          ],
          "name": "stdout"
        },
        {
          "output_type": "display_data",
          "data": {
            "text/html": [
              "\n",
              "     <input type=\"file\" id=\"files-29aba94b-3307-4aba-82db-78630715cfb1\" name=\"files[]\" multiple disabled\n",
              "        style=\"border:none\" />\n",
              "     <output id=\"result-29aba94b-3307-4aba-82db-78630715cfb1\">\n",
              "      Upload widget is only available when the cell has been executed in the\n",
              "      current browser session. Please rerun this cell to enable.\n",
              "      </output>\n",
              "      <script src=\"/nbextensions/google.colab/files.js\"></script> "
            ],
            "text/plain": [
              "<IPython.core.display.HTML object>"
            ]
          },
          "metadata": {
            "tags": []
          }
        },
        {
          "output_type": "stream",
          "text": [
            "Saving kaggle.json to kaggle.json\n"
          ],
          "name": "stdout"
        },
        {
          "output_type": "execute_result",
          "data": {
            "text/plain": [
              "{'kaggle.json': b'{\"username\":\"jogukhee\",\"key\":\"ad7e4f5dbd23f5958891205a99f4d935\"}'}"
            ]
          },
          "metadata": {
            "tags": []
          },
          "execution_count": 1
        }
      ]
    },
    {
      "cell_type": "code",
      "metadata": {
        "colab": {
          "base_uri": "https://localhost:8080/"
        },
        "id": "K65PERWVUCdh",
        "outputId": "d356b027-0972-4809-db32-916c52834901"
      },
      "source": [
        "!mkdir -p ~/.kaggle\n",
        "!cp kaggle.json ~/.kaggle/\n",
        "\n",
        "!chmod 600 ~/.kaggle/kaggle.json\n",
        "\n",
        "!kaggle competitions list"
      ],
      "execution_count": null,
      "outputs": [
        {
          "output_type": "stream",
          "text": [
            "Warning: Looks like you're using an outdated API Version, please consider updating (server 1.5.12 / client 1.5.4)\n",
            "ref                                            deadline             category            reward  teamCount  userHasEntered  \n",
            "---------------------------------------------  -------------------  ---------------  ---------  ---------  --------------  \n",
            "contradictory-my-dear-watson                   2030-07-01 23:59:00  Getting Started     Prizes        111           False  \n",
            "gan-getting-started                            2030-07-01 23:59:00  Getting Started     Prizes        219           False  \n",
            "tpu-getting-started                            2030-06-03 23:59:00  Getting Started  Knowledge        683           False  \n",
            "digit-recognizer                               2030-01-01 00:00:00  Getting Started  Knowledge       3733           False  \n",
            "titanic                                        2030-01-01 00:00:00  Getting Started  Knowledge      29958            True  \n",
            "house-prices-advanced-regression-techniques    2030-01-01 00:00:00  Getting Started  Knowledge       7825            True  \n",
            "connectx                                       2030-01-01 00:00:00  Getting Started  Knowledge        647           False  \n",
            "nlp-getting-started                            2030-01-01 00:00:00  Getting Started  Knowledge       2097           False  \n",
            "competitive-data-science-predict-future-sales  2022-12-31 23:59:00  Playground           Kudos      10855            True  \n",
            "jane-street-market-prediction                  2021-08-23 23:59:00  Featured          $100,000       4245           False  \n",
            "hungry-geese                                   2021-07-26 23:59:00  Playground          Prizes        471           False  \n",
            "coleridgeinitiative-show-us-the-data           2021-06-22 23:59:00  Featured           $90,000        409           False  \n",
            "bms-molecular-translation                      2021-06-02 23:59:00  Featured           $50,000        430           False  \n",
            "birdclef-2021                                  2021-05-31 23:59:00  Research            $5,000        122           False  \n",
            "iwildcam2021-fgvc8                             2021-05-26 23:59:00  Research         Knowledge         17           False  \n",
            "herbarium-2021-fgvc8                           2021-05-26 23:59:00  Research         Knowledge         37           False  \n",
            "plant-pathology-2021-fgvc8                     2021-05-26 23:59:00  Research         Knowledge        185           False  \n",
            "hotel-id-2021-fgvc8                            2021-05-26 23:59:00  Research         Knowledge         44           False  \n",
            "hashcode-2021-oqr-extension                    2021-05-25 23:59:00  Playground       Knowledge        110           False  \n",
            "indoor-location-navigation                     2021-05-17 23:59:00  Research           $10,000        872           False  \n"
          ],
          "name": "stdout"
        }
      ]
    },
    {
      "cell_type": "code",
      "metadata": {
        "colab": {
          "base_uri": "https://localhost:8080/"
        },
        "id": "aVMFaXRwUDI3",
        "outputId": "8ea9e5ce-593c-4f8f-e47f-b23bdc7596e1"
      },
      "source": [
        "!kaggle competitions download -c 2021-ml-p8"
      ],
      "execution_count": null,
      "outputs": [
        {
          "output_type": "stream",
          "text": [
            "Warning: Looks like you're using an outdated API Version, please consider updating (server 1.5.12 / client 1.5.4)\n",
            "Downloading train_X.csv to /content\n",
            "  0% 0.00/2.75k [00:00<?, ?B/s]\n",
            "100% 2.75k/2.75k [00:00<00:00, 6.33MB/s]\n",
            "Downloading sample_submit.csv to /content\n",
            "  0% 0.00/139 [00:00<?, ?B/s]\n",
            "100% 139/139 [00:00<00:00, 136kB/s]\n",
            "Downloading train_Y.csv to /content\n",
            "  0% 0.00/52.0 [00:00<?, ?B/s]\n",
            "100% 52.0/52.0 [00:00<00:00, 45.6kB/s]\n",
            "Downloading test_X.csv to /content\n",
            "  0% 0.00/2.59k [00:00<?, ?B/s]\n",
            "100% 2.59k/2.59k [00:00<00:00, 2.54MB/s]\n"
          ],
          "name": "stdout"
        }
      ]
    },
    {
      "cell_type": "code",
      "metadata": {
        "colab": {
          "base_uri": "https://localhost:8080/",
          "height": 215
        },
        "id": "Ncbir9xnUGdd",
        "outputId": "e1ef2439-1677-4356-e365-ef5ee22ebc88"
      },
      "source": [
        "import pandas as pd\n",
        "import numpy as np\n",
        "\n",
        "X = pd.read_csv('train_X.csv')\n",
        "y = pd.read_csv('train_Y.csv')\n",
        "\n",
        "X.head()\n"
      ],
      "execution_count": null,
      "outputs": [
        {
          "output_type": "execute_result",
          "data": {
            "text/html": [
              "<div>\n",
              "<style scoped>\n",
              "    .dataframe tbody tr th:only-of-type {\n",
              "        vertical-align: middle;\n",
              "    }\n",
              "\n",
              "    .dataframe tbody tr th {\n",
              "        vertical-align: top;\n",
              "    }\n",
              "\n",
              "    .dataframe thead th {\n",
              "        text-align: right;\n",
              "    }\n",
              "</style>\n",
              "<table border=\"1\" class=\"dataframe\">\n",
              "  <thead>\n",
              "    <tr style=\"text-align: right;\">\n",
              "      <th></th>\n",
              "      <th>sleep_time_mean</th>\n",
              "      <th>sleep_time_std</th>\n",
              "      <th>sleep_time_min</th>\n",
              "      <th>sleep_time_25</th>\n",
              "      <th>sleep_time_50</th>\n",
              "      <th>sleep_time_75</th>\n",
              "      <th>sleep_time_max</th>\n",
              "      <th>sleep_quality_mean</th>\n",
              "      <th>sleep_quality_std</th>\n",
              "      <th>sleep_quality_min</th>\n",
              "      <th>sleep_quality_25</th>\n",
              "      <th>sleep_quality_50</th>\n",
              "      <th>sleep_quality_75</th>\n",
              "      <th>sleep_quality_max</th>\n",
              "    </tr>\n",
              "  </thead>\n",
              "  <tbody>\n",
              "    <tr>\n",
              "      <th>0</th>\n",
              "      <td>6.250000</td>\n",
              "      <td>0.689202</td>\n",
              "      <td>5.0</td>\n",
              "      <td>6.125</td>\n",
              "      <td>6.5</td>\n",
              "      <td>6.50</td>\n",
              "      <td>7.0</td>\n",
              "      <td>3.500000</td>\n",
              "      <td>0.836660</td>\n",
              "      <td>2.0</td>\n",
              "      <td>3.25</td>\n",
              "      <td>4.0</td>\n",
              "      <td>4.0</td>\n",
              "      <td>4.0</td>\n",
              "    </tr>\n",
              "    <tr>\n",
              "      <th>1</th>\n",
              "      <td>6.418182</td>\n",
              "      <td>1.169693</td>\n",
              "      <td>3.0</td>\n",
              "      <td>6.000</td>\n",
              "      <td>6.5</td>\n",
              "      <td>6.75</td>\n",
              "      <td>9.5</td>\n",
              "      <td>3.345455</td>\n",
              "      <td>0.672700</td>\n",
              "      <td>1.0</td>\n",
              "      <td>3.00</td>\n",
              "      <td>3.0</td>\n",
              "      <td>4.0</td>\n",
              "      <td>4.0</td>\n",
              "    </tr>\n",
              "    <tr>\n",
              "      <th>2</th>\n",
              "      <td>7.034483</td>\n",
              "      <td>1.127262</td>\n",
              "      <td>5.5</td>\n",
              "      <td>6.500</td>\n",
              "      <td>6.5</td>\n",
              "      <td>8.00</td>\n",
              "      <td>11.0</td>\n",
              "      <td>3.862069</td>\n",
              "      <td>0.347839</td>\n",
              "      <td>3.0</td>\n",
              "      <td>4.00</td>\n",
              "      <td>4.0</td>\n",
              "      <td>4.0</td>\n",
              "      <td>4.0</td>\n",
              "    </tr>\n",
              "    <tr>\n",
              "      <th>3</th>\n",
              "      <td>6.453846</td>\n",
              "      <td>1.070642</td>\n",
              "      <td>3.0</td>\n",
              "      <td>6.000</td>\n",
              "      <td>6.5</td>\n",
              "      <td>7.00</td>\n",
              "      <td>9.0</td>\n",
              "      <td>3.061538</td>\n",
              "      <td>0.768052</td>\n",
              "      <td>1.0</td>\n",
              "      <td>3.00</td>\n",
              "      <td>3.0</td>\n",
              "      <td>4.0</td>\n",
              "      <td>4.0</td>\n",
              "    </tr>\n",
              "    <tr>\n",
              "      <th>4</th>\n",
              "      <td>5.902439</td>\n",
              "      <td>1.817345</td>\n",
              "      <td>3.5</td>\n",
              "      <td>4.500</td>\n",
              "      <td>5.5</td>\n",
              "      <td>7.00</td>\n",
              "      <td>10.0</td>\n",
              "      <td>2.975610</td>\n",
              "      <td>0.961452</td>\n",
              "      <td>1.0</td>\n",
              "      <td>2.00</td>\n",
              "      <td>3.0</td>\n",
              "      <td>4.0</td>\n",
              "      <td>4.0</td>\n",
              "    </tr>\n",
              "  </tbody>\n",
              "</table>\n",
              "</div>"
            ],
            "text/plain": [
              "   sleep_time_mean  sleep_time_std  ...  sleep_quality_75  sleep_quality_max\n",
              "0         6.250000        0.689202  ...               4.0                4.0\n",
              "1         6.418182        1.169693  ...               4.0                4.0\n",
              "2         7.034483        1.127262  ...               4.0                4.0\n",
              "3         6.453846        1.070642  ...               4.0                4.0\n",
              "4         5.902439        1.817345  ...               4.0                4.0\n",
              "\n",
              "[5 rows x 14 columns]"
            ]
          },
          "metadata": {
            "tags": []
          },
          "execution_count": 4
        }
      ]
    },
    {
      "cell_type": "code",
      "metadata": {
        "colab": {
          "base_uri": "https://localhost:8080/"
        },
        "id": "aoN65Q2tU5pg",
        "outputId": "51a9340d-b850-424f-fa7d-20a2fe32736c"
      },
      "source": [
        "from sklearn.model_selection import train_test_split\n",
        "X_train, X_test, y_train, y_test = train_test_split(X, y, test_size=0.3, random_state=42, stratify=y)\n",
        "\n",
        "print(X_train.shape)\n",
        "print(X_test.shape)\n",
        "print(y_train.shape)\n",
        "print(y_test.shape)"
      ],
      "execution_count": null,
      "outputs": [
        {
          "output_type": "stream",
          "text": [
            "(16, 14)\n",
            "(7, 14)\n",
            "(16, 1)\n",
            "(7, 1)\n"
          ],
          "name": "stdout"
        }
      ]
    },
    {
      "cell_type": "code",
      "metadata": {
        "id": "6Xv_6djfUa3q"
      },
      "source": [
        "from sklearn.preprocessing import StandardScaler\n",
        "scaler = StandardScaler()\n",
        "scaler.fit(X_train)\n",
        "X_train_std = scaler.transform(X_train)\n",
        "X_test_std = scaler.transform(X_test)\n"
      ],
      "execution_count": null,
      "outputs": []
    },
    {
      "cell_type": "code",
      "metadata": {
        "id": "ghVBc1g4ZUVe"
      },
      "source": [
        "from sklearn.preprocessing import MinMaxScaler\n",
        "msc = MinMaxScaler()\n",
        "msc.fit(X_train)\n",
        "X_train_mstd = msc.transform(X_train)\n",
        "X_test_mstd = msc.transform(X_test)"
      ],
      "execution_count": null,
      "outputs": []
    },
    {
      "cell_type": "code",
      "metadata": {
        "id": "gxcbjkgybo1u"
      },
      "source": [
        "from sklearn.preprocessing import RobustScaler\n",
        "rub = RobustScaler()\n",
        "rub.fit(X_train)\n",
        "X_train_rub = msc.transform(X_train)\n",
        "X_test_rub = msc.transform(X_test)"
      ],
      "execution_count": null,
      "outputs": []
    },
    {
      "cell_type": "code",
      "metadata": {
        "colab": {
          "base_uri": "https://localhost:8080/"
        },
        "id": "JLem7XUvbuDr",
        "outputId": "aa61c1dc-45f7-40e2-d6b1-e065f4e976d9"
      },
      "source": [
        "Logit_l2_200.fit(X_train_rub, y_train)\n",
        "print(Logit_l2_200.score(X_train_rub, y_train))\n",
        "print(Logit_l2_200.score(X_test_rub, y_test))\n",
        "\n",
        "Logit_l2_100.fit(X_train_rub, y_train)\n",
        "print(Logit_l2_100.score(X_train_rub, y_train))\n",
        "print(Logit_l2_100.score(X_test_rub, y_test))\n",
        "\n",
        "Logit_l2_10.fit(X_train_rub, y_train)\n",
        "print(Logit_l2_10.score(X_train_rub, y_train))\n",
        "print(Logit_l2_10.score(X_test_rub, y_test))\n",
        "\n",
        "Logit_l2_1.fit(X_train_rub, y_train)\n",
        "print(Logit_l2_1.score(X_train_rub, y_train))\n",
        "print(Logit_l2_1.score(X_test_rub, y_test))\n",
        "\n",
        "Logit_l2_01.fit(X_train_rub, y_train)\n",
        "print(Logit_l2_01.score(X_train_rub, y_train))\n",
        "print(Logit_l2_01.score(X_test_rub, y_test))"
      ],
      "execution_count": null,
      "outputs": [
        {
          "output_type": "stream",
          "text": [
            "0.8125\n",
            "0.7142857142857143\n",
            "0.8125\n",
            "0.7142857142857143\n",
            "0.75\n",
            "0.7142857142857143\n",
            "0.75\n",
            "0.7142857142857143\n",
            "0.75\n",
            "0.7142857142857143\n"
          ],
          "name": "stdout"
        },
        {
          "output_type": "stream",
          "text": [
            "/usr/local/lib/python3.7/dist-packages/sklearn/utils/validation.py:760: DataConversionWarning: A column-vector y was passed when a 1d array was expected. Please change the shape of y to (n_samples, ), for example using ravel().\n",
            "  y = column_or_1d(y, warn=True)\n",
            "/usr/local/lib/python3.7/dist-packages/sklearn/linear_model/_sag.py:330: ConvergenceWarning: The max_iter was reached which means the coef_ did not converge\n",
            "  \"the coef_ did not converge\", ConvergenceWarning)\n",
            "/usr/local/lib/python3.7/dist-packages/sklearn/utils/validation.py:760: DataConversionWarning: A column-vector y was passed when a 1d array was expected. Please change the shape of y to (n_samples, ), for example using ravel().\n",
            "  y = column_or_1d(y, warn=True)\n",
            "/usr/local/lib/python3.7/dist-packages/sklearn/linear_model/_sag.py:330: ConvergenceWarning: The max_iter was reached which means the coef_ did not converge\n",
            "  \"the coef_ did not converge\", ConvergenceWarning)\n",
            "/usr/local/lib/python3.7/dist-packages/sklearn/utils/validation.py:760: DataConversionWarning: A column-vector y was passed when a 1d array was expected. Please change the shape of y to (n_samples, ), for example using ravel().\n",
            "  y = column_or_1d(y, warn=True)\n",
            "/usr/local/lib/python3.7/dist-packages/sklearn/linear_model/_sag.py:330: ConvergenceWarning: The max_iter was reached which means the coef_ did not converge\n",
            "  \"the coef_ did not converge\", ConvergenceWarning)\n",
            "/usr/local/lib/python3.7/dist-packages/sklearn/utils/validation.py:760: DataConversionWarning: A column-vector y was passed when a 1d array was expected. Please change the shape of y to (n_samples, ), for example using ravel().\n",
            "  y = column_or_1d(y, warn=True)\n",
            "/usr/local/lib/python3.7/dist-packages/sklearn/linear_model/_sag.py:330: ConvergenceWarning: The max_iter was reached which means the coef_ did not converge\n",
            "  \"the coef_ did not converge\", ConvergenceWarning)\n",
            "/usr/local/lib/python3.7/dist-packages/sklearn/utils/validation.py:760: DataConversionWarning: A column-vector y was passed when a 1d array was expected. Please change the shape of y to (n_samples, ), for example using ravel().\n",
            "  y = column_or_1d(y, warn=True)\n"
          ],
          "name": "stderr"
        }
      ]
    },
    {
      "cell_type": "code",
      "metadata": {
        "id": "wgMYWubbVcuo"
      },
      "source": [
        "from sklearn.linear_model import LogisticRegression\n",
        "# class_weight = 'balanced'\n",
        "Logit_l2_200 = LogisticRegression(C=200, penalty='l2', solver='saga', random_state=11, multi_class='ovr', class_weight = 'balanced')\n",
        "Logit_l2_100 = LogisticRegression(C=100, penalty='l2', solver='saga', random_state=11, multi_class='ovr', class_weight = 'balanced')\n",
        "Logit_l2_10 = LogisticRegression(C=10, penalty='l2', solver='saga', random_state=11, multi_class='ovr', class_weight = 'balanced')\n",
        "Logit_l2_1 = LogisticRegression(C=1, penalty='l2', solver='saga', random_state=11, multi_class='ovr', class_weight = 'balanced')\n",
        "Logit_l2_01 = LogisticRegression(C=0.1, penalty='l2', solver='saga', random_state=11, multi_class='ovr', class_weight = 'balanced')\n",
        "\n",
        "Logit_l1_200 = LogisticRegression(C=200, penalty='l1', solver='saga', random_state=11, multi_class='ovr', class_weight = 'balanced')\n",
        "Logit_l1_100 = LogisticRegression(C=100, penalty='l1', solver='saga', random_state=11, multi_class='ovr', class_weight = 'balanced')\n",
        "Logit_l1_10 = LogisticRegression(C=10, penalty='l1', solver='saga', random_state=11, multi_class='ovr', class_weight = 'balanced')\n",
        "Logit_l1_1 = LogisticRegression(C=1, penalty='l1', solver='saga', random_state=11, multi_class='ovr', class_weight = 'balanced')\n",
        "Logit_l1_01 = LogisticRegression(C=0.1, penalty='l1', solver='saga', random_state=11, multi_class='ovr', class_weight = 'balanced')\n",
        "\n"
      ],
      "execution_count": null,
      "outputs": []
    },
    {
      "cell_type": "code",
      "metadata": {
        "colab": {
          "base_uri": "https://localhost:8080/"
        },
        "id": "Gz0xRTz7bTE2",
        "outputId": "18177111-230c-4c17-b443-94231406615f"
      },
      "source": [
        "Logit_l2_200.fit(X_train_mstd, y_train)\n",
        "print(Logit_l2_200.score(X_train_mstd, y_train))\n",
        "print(Logit_l2_200.score(X_test_mstd, y_test))\n",
        "\n",
        "Logit_l2_100.fit(X_train_mstd, y_train)\n",
        "print(Logit_l2_100.score(X_train_mstd, y_train))\n",
        "print(Logit_l2_100.score(X_test_mstd, y_test))\n",
        "\n",
        "Logit_l2_10.fit(X_train_mstd, y_train)\n",
        "print(Logit_l2_10.score(X_train_mstd, y_train))\n",
        "print(Logit_l2_10.score(X_test_mstd, y_test))\n",
        "\n",
        "Logit_l2_1.fit(X_train_mstd, y_train)\n",
        "print(Logit_l2_1.score(X_train_mstd, y_train))\n",
        "print(Logit_l2_1.score(X_test_mstd, y_test))\n",
        "\n",
        "Logit_l2_01.fit(X_train_mstd, y_train)\n",
        "print(Logit_l2_01.score(X_train_mstd, y_train))\n",
        "print(Logit_l2_01.score(X_test_mstd, y_test))"
      ],
      "execution_count": null,
      "outputs": [
        {
          "output_type": "stream",
          "text": [
            "0.9375\n",
            "0.7142857142857143\n",
            "0.875\n",
            "0.7142857142857143\n",
            "0.8125\n",
            "0.7142857142857143\n",
            "0.875\n",
            "0.7142857142857143\n",
            "0.75\n",
            "0.7142857142857143\n"
          ],
          "name": "stdout"
        },
        {
          "output_type": "stream",
          "text": [
            "/usr/local/lib/python3.7/dist-packages/sklearn/utils/validation.py:760: DataConversionWarning: A column-vector y was passed when a 1d array was expected. Please change the shape of y to (n_samples, ), for example using ravel().\n",
            "  y = column_or_1d(y, warn=True)\n",
            "/usr/local/lib/python3.7/dist-packages/sklearn/linear_model/_sag.py:330: ConvergenceWarning: The max_iter was reached which means the coef_ did not converge\n",
            "  \"the coef_ did not converge\", ConvergenceWarning)\n",
            "/usr/local/lib/python3.7/dist-packages/sklearn/utils/validation.py:760: DataConversionWarning: A column-vector y was passed when a 1d array was expected. Please change the shape of y to (n_samples, ), for example using ravel().\n",
            "  y = column_or_1d(y, warn=True)\n",
            "/usr/local/lib/python3.7/dist-packages/sklearn/linear_model/_sag.py:330: ConvergenceWarning: The max_iter was reached which means the coef_ did not converge\n",
            "  \"the coef_ did not converge\", ConvergenceWarning)\n",
            "/usr/local/lib/python3.7/dist-packages/sklearn/utils/validation.py:760: DataConversionWarning: A column-vector y was passed when a 1d array was expected. Please change the shape of y to (n_samples, ), for example using ravel().\n",
            "  y = column_or_1d(y, warn=True)\n",
            "/usr/local/lib/python3.7/dist-packages/sklearn/linear_model/_sag.py:330: ConvergenceWarning: The max_iter was reached which means the coef_ did not converge\n",
            "  \"the coef_ did not converge\", ConvergenceWarning)\n",
            "/usr/local/lib/python3.7/dist-packages/sklearn/utils/validation.py:760: DataConversionWarning: A column-vector y was passed when a 1d array was expected. Please change the shape of y to (n_samples, ), for example using ravel().\n",
            "  y = column_or_1d(y, warn=True)\n",
            "/usr/local/lib/python3.7/dist-packages/sklearn/utils/validation.py:760: DataConversionWarning: A column-vector y was passed when a 1d array was expected. Please change the shape of y to (n_samples, ), for example using ravel().\n",
            "  y = column_or_1d(y, warn=True)\n"
          ],
          "name": "stderr"
        }
      ]
    },
    {
      "cell_type": "code",
      "metadata": {
        "colab": {
          "base_uri": "https://localhost:8080/"
        },
        "id": "NxkA1iZ0kU5t",
        "outputId": "6e81622e-b4a7-4483-a3d0-486144839a28"
      },
      "source": [
        "Logit_l2_200.fit(X_train, y_train)\n",
        "print(Logit_l2_200.score(X_train, y_train))\n",
        "print(Logit_l2_200.score(X_test, y_test))\n",
        "\n",
        "Logit_l2_100.fit(X_train, y_train)\n",
        "print(Logit_l2_100.score(X_train, y_train))\n",
        "print(Logit_l2_100.score(X_test, y_test))\n",
        "\n",
        "Logit_l2_10.fit(X_train, y_train)\n",
        "print(Logit_l2_10.score(X_train, y_train))\n",
        "print(Logit_l2_10.score(X_test, y_test))\n",
        "\n",
        "Logit_l2_1.fit(X_train, y_train)\n",
        "print(Logit_l2_1.score(X_train, y_train))\n",
        "print(Logit_l2_1.score(X_test, y_test))\n",
        "\n",
        "Logit_l2_01.fit(X_train, y_train)\n",
        "print(Logit_l2_01.score(X_train, y_train))\n",
        "print(Logit_l2_01.score(X_test, y_test))"
      ],
      "execution_count": null,
      "outputs": [
        {
          "output_type": "stream",
          "text": [
            "0.6875\n",
            "0.7142857142857143\n",
            "0.6875\n",
            "0.7142857142857143\n",
            "0.6875\n",
            "0.7142857142857143\n",
            "0.6875\n",
            "0.5714285714285714\n",
            "0.5625\n",
            "0.5714285714285714\n"
          ],
          "name": "stdout"
        },
        {
          "output_type": "stream",
          "text": [
            "/usr/local/lib/python3.7/dist-packages/sklearn/utils/validation.py:760: DataConversionWarning: A column-vector y was passed when a 1d array was expected. Please change the shape of y to (n_samples, ), for example using ravel().\n",
            "  y = column_or_1d(y, warn=True)\n",
            "/usr/local/lib/python3.7/dist-packages/sklearn/linear_model/_sag.py:330: ConvergenceWarning: The max_iter was reached which means the coef_ did not converge\n",
            "  \"the coef_ did not converge\", ConvergenceWarning)\n",
            "/usr/local/lib/python3.7/dist-packages/sklearn/utils/validation.py:760: DataConversionWarning: A column-vector y was passed when a 1d array was expected. Please change the shape of y to (n_samples, ), for example using ravel().\n",
            "  y = column_or_1d(y, warn=True)\n",
            "/usr/local/lib/python3.7/dist-packages/sklearn/linear_model/_sag.py:330: ConvergenceWarning: The max_iter was reached which means the coef_ did not converge\n",
            "  \"the coef_ did not converge\", ConvergenceWarning)\n",
            "/usr/local/lib/python3.7/dist-packages/sklearn/utils/validation.py:760: DataConversionWarning: A column-vector y was passed when a 1d array was expected. Please change the shape of y to (n_samples, ), for example using ravel().\n",
            "  y = column_or_1d(y, warn=True)\n",
            "/usr/local/lib/python3.7/dist-packages/sklearn/linear_model/_sag.py:330: ConvergenceWarning: The max_iter was reached which means the coef_ did not converge\n",
            "  \"the coef_ did not converge\", ConvergenceWarning)\n",
            "/usr/local/lib/python3.7/dist-packages/sklearn/utils/validation.py:760: DataConversionWarning: A column-vector y was passed when a 1d array was expected. Please change the shape of y to (n_samples, ), for example using ravel().\n",
            "  y = column_or_1d(y, warn=True)\n",
            "/usr/local/lib/python3.7/dist-packages/sklearn/linear_model/_sag.py:330: ConvergenceWarning: The max_iter was reached which means the coef_ did not converge\n",
            "  \"the coef_ did not converge\", ConvergenceWarning)\n",
            "/usr/local/lib/python3.7/dist-packages/sklearn/utils/validation.py:760: DataConversionWarning: A column-vector y was passed when a 1d array was expected. Please change the shape of y to (n_samples, ), for example using ravel().\n",
            "  y = column_or_1d(y, warn=True)\n",
            "/usr/local/lib/python3.7/dist-packages/sklearn/linear_model/_sag.py:330: ConvergenceWarning: The max_iter was reached which means the coef_ did not converge\n",
            "  \"the coef_ did not converge\", ConvergenceWarning)\n"
          ],
          "name": "stderr"
        }
      ]
    },
    {
      "cell_type": "code",
      "metadata": {
        "colab": {
          "base_uri": "https://localhost:8080/"
        },
        "id": "MwTjqJblWjmE",
        "outputId": "7ba6e43c-7c76-42a4-e2dd-3d9c268ee9f6"
      },
      "source": [
        "Logit_l1_200.fit(X_train_std, y_train)\n",
        "print(Logit_l1_200.score(X_train_std, y_train))\n",
        "print(Logit_l1_200.score(X_test_std, y_test))\n",
        "\n",
        "Logit_l1_100.fit(X_train_std, y_train)\n",
        "print(Logit_l1_100.score(X_train_std, y_train))\n",
        "print(Logit_l1_100.score(X_test_std, y_test))\n",
        "\n",
        "Logit_l1_10.fit(X_train_std, y_train)\n",
        "print(Logit_l1_10.score(X_train_std, y_train))\n",
        "print(Logit_l1_10.score(X_test_std, y_test))\n",
        "\n",
        "Logit_l1_1.fit(X_train_std, y_train)\n",
        "print(Logit_l1_1.score(X_train_std, y_train))\n",
        "print(Logit_l1_1.score(X_test_std, y_test))\n",
        "\n",
        "Logit_l1_01.fit(X_train_std, y_train)\n",
        "print(Logit_l1_01.score(X_train_std, y_train))\n",
        "print(Logit_l1_01.score(X_test_std, y_test))"
      ],
      "execution_count": null,
      "outputs": [
        {
          "output_type": "stream",
          "text": [
            "0.9375\n",
            "0.7142857142857143\n",
            "0.9375\n",
            "0.7142857142857143\n",
            "0.9375\n",
            "0.7142857142857143\n",
            "0.75\n",
            "0.7142857142857143\n",
            "0.25\n",
            "0.2857142857142857\n"
          ],
          "name": "stdout"
        },
        {
          "output_type": "stream",
          "text": [
            "/usr/local/lib/python3.7/dist-packages/sklearn/utils/validation.py:760: DataConversionWarning: A column-vector y was passed when a 1d array was expected. Please change the shape of y to (n_samples, ), for example using ravel().\n",
            "  y = column_or_1d(y, warn=True)\n",
            "/usr/local/lib/python3.7/dist-packages/sklearn/linear_model/_sag.py:330: ConvergenceWarning: The max_iter was reached which means the coef_ did not converge\n",
            "  \"the coef_ did not converge\", ConvergenceWarning)\n",
            "/usr/local/lib/python3.7/dist-packages/sklearn/utils/validation.py:760: DataConversionWarning: A column-vector y was passed when a 1d array was expected. Please change the shape of y to (n_samples, ), for example using ravel().\n",
            "  y = column_or_1d(y, warn=True)\n",
            "/usr/local/lib/python3.7/dist-packages/sklearn/linear_model/_sag.py:330: ConvergenceWarning: The max_iter was reached which means the coef_ did not converge\n",
            "  \"the coef_ did not converge\", ConvergenceWarning)\n",
            "/usr/local/lib/python3.7/dist-packages/sklearn/utils/validation.py:760: DataConversionWarning: A column-vector y was passed when a 1d array was expected. Please change the shape of y to (n_samples, ), for example using ravel().\n",
            "  y = column_or_1d(y, warn=True)\n",
            "/usr/local/lib/python3.7/dist-packages/sklearn/linear_model/_sag.py:330: ConvergenceWarning: The max_iter was reached which means the coef_ did not converge\n",
            "  \"the coef_ did not converge\", ConvergenceWarning)\n",
            "/usr/local/lib/python3.7/dist-packages/sklearn/utils/validation.py:760: DataConversionWarning: A column-vector y was passed when a 1d array was expected. Please change the shape of y to (n_samples, ), for example using ravel().\n",
            "  y = column_or_1d(y, warn=True)\n",
            "/usr/local/lib/python3.7/dist-packages/sklearn/linear_model/_sag.py:330: ConvergenceWarning: The max_iter was reached which means the coef_ did not converge\n",
            "  \"the coef_ did not converge\", ConvergenceWarning)\n",
            "/usr/local/lib/python3.7/dist-packages/sklearn/utils/validation.py:760: DataConversionWarning: A column-vector y was passed when a 1d array was expected. Please change the shape of y to (n_samples, ), for example using ravel().\n",
            "  y = column_or_1d(y, warn=True)\n"
          ],
          "name": "stderr"
        }
      ]
    },
    {
      "cell_type": "code",
      "metadata": {
        "colab": {
          "base_uri": "https://localhost:8080/"
        },
        "id": "5NEC0QY9WJrO",
        "outputId": "f93e7cf6-dc5b-4762-f3af-0ac946467193"
      },
      "source": [
        "Logit_l2_200.fit(X_train_std, y_train)\n",
        "print(Logit_l2_200.score(X_train_std, y_train))\n",
        "print(Logit_l2_200.score(X_test_std, y_test))\n",
        "\n",
        "Logit_l2_100.fit(X_train_std, y_train)\n",
        "print(Logit_l2_100.score(X_train_std, y_train))\n",
        "print(Logit_l2_100.score(X_test_std, y_test))\n",
        "\n",
        "Logit_l2_10.fit(X_train_std, y_train)\n",
        "print(Logit_l2_10.score(X_train_std, y_train))\n",
        "print(Logit_l2_10.score(X_test_std, y_test))\n",
        "\n",
        "Logit_l2_1.fit(X_train_std, y_train)\n",
        "print(Logit_l2_1.score(X_train_std, y_train))\n",
        "print(Logit_l2_1.score(X_test_std, y_test))\n",
        "\n",
        "Logit_l2_01.fit(X_train_std, y_train)\n",
        "print(Logit_l2_01.score(X_train_std, y_train))\n",
        "print(Logit_l2_01.score(X_test_std, y_test))\n",
        "\n",
        "print(Logit_l2_01.coef_)"
      ],
      "execution_count": null,
      "outputs": [
        {
          "output_type": "stream",
          "text": [
            "0.9375\n",
            "0.7142857142857143\n",
            "0.9375\n",
            "0.7142857142857143\n",
            "0.9375\n",
            "0.7142857142857143\n",
            "0.875\n",
            "0.7142857142857143\n",
            "0.75\n",
            "0.8571428571428571\n",
            "[[-0.05919235 -0.07088433 -0.05130781  0.07330293  0.19864366 -0.0751519\n",
            "  -0.07299662 -0.07827933 -0.02077446  0.0574674   0.07440081 -0.03280493\n",
            "  -0.21186314  0.        ]]\n"
          ],
          "name": "stdout"
        },
        {
          "output_type": "stream",
          "text": [
            "/usr/local/lib/python3.7/dist-packages/sklearn/utils/validation.py:760: DataConversionWarning: A column-vector y was passed when a 1d array was expected. Please change the shape of y to (n_samples, ), for example using ravel().\n",
            "  y = column_or_1d(y, warn=True)\n",
            "/usr/local/lib/python3.7/dist-packages/sklearn/linear_model/_sag.py:330: ConvergenceWarning: The max_iter was reached which means the coef_ did not converge\n",
            "  \"the coef_ did not converge\", ConvergenceWarning)\n",
            "/usr/local/lib/python3.7/dist-packages/sklearn/utils/validation.py:760: DataConversionWarning: A column-vector y was passed when a 1d array was expected. Please change the shape of y to (n_samples, ), for example using ravel().\n",
            "  y = column_or_1d(y, warn=True)\n",
            "/usr/local/lib/python3.7/dist-packages/sklearn/linear_model/_sag.py:330: ConvergenceWarning: The max_iter was reached which means the coef_ did not converge\n",
            "  \"the coef_ did not converge\", ConvergenceWarning)\n",
            "/usr/local/lib/python3.7/dist-packages/sklearn/utils/validation.py:760: DataConversionWarning: A column-vector y was passed when a 1d array was expected. Please change the shape of y to (n_samples, ), for example using ravel().\n",
            "  y = column_or_1d(y, warn=True)\n",
            "/usr/local/lib/python3.7/dist-packages/sklearn/linear_model/_sag.py:330: ConvergenceWarning: The max_iter was reached which means the coef_ did not converge\n",
            "  \"the coef_ did not converge\", ConvergenceWarning)\n",
            "/usr/local/lib/python3.7/dist-packages/sklearn/utils/validation.py:760: DataConversionWarning: A column-vector y was passed when a 1d array was expected. Please change the shape of y to (n_samples, ), for example using ravel().\n",
            "  y = column_or_1d(y, warn=True)\n",
            "/usr/local/lib/python3.7/dist-packages/sklearn/linear_model/_sag.py:330: ConvergenceWarning: The max_iter was reached which means the coef_ did not converge\n",
            "  \"the coef_ did not converge\", ConvergenceWarning)\n",
            "/usr/local/lib/python3.7/dist-packages/sklearn/utils/validation.py:760: DataConversionWarning: A column-vector y was passed when a 1d array was expected. Please change the shape of y to (n_samples, ), for example using ravel().\n",
            "  y = column_or_1d(y, warn=True)\n"
          ],
          "name": "stderr"
        }
      ]
    },
    {
      "cell_type": "code",
      "metadata": {
        "colab": {
          "base_uri": "https://localhost:8080/",
          "height": 215
        },
        "id": "9_ni222XWc9M",
        "outputId": "59af64df-eac1-4fc5-d3ca-c32f8648b21a"
      },
      "source": [
        "test = pd.read_csv('test_X.csv')\n",
        "test.head()"
      ],
      "execution_count": null,
      "outputs": [
        {
          "output_type": "execute_result",
          "data": {
            "text/html": [
              "<div>\n",
              "<style scoped>\n",
              "    .dataframe tbody tr th:only-of-type {\n",
              "        vertical-align: middle;\n",
              "    }\n",
              "\n",
              "    .dataframe tbody tr th {\n",
              "        vertical-align: top;\n",
              "    }\n",
              "\n",
              "    .dataframe thead th {\n",
              "        text-align: right;\n",
              "    }\n",
              "</style>\n",
              "<table border=\"1\" class=\"dataframe\">\n",
              "  <thead>\n",
              "    <tr style=\"text-align: right;\">\n",
              "      <th></th>\n",
              "      <th>sleep_time_mean</th>\n",
              "      <th>sleep_time_std</th>\n",
              "      <th>sleep_time_min</th>\n",
              "      <th>sleep_time_25</th>\n",
              "      <th>sleep_time_50</th>\n",
              "      <th>sleep_time_75</th>\n",
              "      <th>sleep_time_max</th>\n",
              "      <th>sleep_quality_mean</th>\n",
              "      <th>sleep_quality_std</th>\n",
              "      <th>sleep_quality_min</th>\n",
              "      <th>sleep_quality_25</th>\n",
              "      <th>sleep_quality_50</th>\n",
              "      <th>sleep_quality_75</th>\n",
              "      <th>sleep_quality_max</th>\n",
              "    </tr>\n",
              "  </thead>\n",
              "  <tbody>\n",
              "    <tr>\n",
              "      <th>0</th>\n",
              "      <td>6.574468</td>\n",
              "      <td>1.202257</td>\n",
              "      <td>3.0</td>\n",
              "      <td>6.00</td>\n",
              "      <td>6.5</td>\n",
              "      <td>7.00</td>\n",
              "      <td>10.0</td>\n",
              "      <td>2.659574</td>\n",
              "      <td>0.599877</td>\n",
              "      <td>1.0</td>\n",
              "      <td>2.0</td>\n",
              "      <td>3.0</td>\n",
              "      <td>3.0</td>\n",
              "      <td>4.0</td>\n",
              "    </tr>\n",
              "    <tr>\n",
              "      <th>1</th>\n",
              "      <td>5.233333</td>\n",
              "      <td>1.293758</td>\n",
              "      <td>3.5</td>\n",
              "      <td>4.25</td>\n",
              "      <td>5.0</td>\n",
              "      <td>5.75</td>\n",
              "      <td>8.5</td>\n",
              "      <td>2.375000</td>\n",
              "      <td>1.147461</td>\n",
              "      <td>1.0</td>\n",
              "      <td>1.0</td>\n",
              "      <td>2.5</td>\n",
              "      <td>3.0</td>\n",
              "      <td>4.0</td>\n",
              "    </tr>\n",
              "    <tr>\n",
              "      <th>2</th>\n",
              "      <td>5.980000</td>\n",
              "      <td>0.620484</td>\n",
              "      <td>4.5</td>\n",
              "      <td>5.50</td>\n",
              "      <td>6.0</td>\n",
              "      <td>6.50</td>\n",
              "      <td>7.0</td>\n",
              "      <td>3.560000</td>\n",
              "      <td>0.711805</td>\n",
              "      <td>2.0</td>\n",
              "      <td>3.0</td>\n",
              "      <td>4.0</td>\n",
              "      <td>4.0</td>\n",
              "      <td>4.0</td>\n",
              "    </tr>\n",
              "    <tr>\n",
              "      <th>3</th>\n",
              "      <td>5.735294</td>\n",
              "      <td>0.430562</td>\n",
              "      <td>5.0</td>\n",
              "      <td>5.50</td>\n",
              "      <td>5.5</td>\n",
              "      <td>6.00</td>\n",
              "      <td>6.5</td>\n",
              "      <td>2.941176</td>\n",
              "      <td>0.547234</td>\n",
              "      <td>2.0</td>\n",
              "      <td>3.0</td>\n",
              "      <td>3.0</td>\n",
              "      <td>3.0</td>\n",
              "      <td>4.0</td>\n",
              "    </tr>\n",
              "    <tr>\n",
              "      <th>4</th>\n",
              "      <td>6.423077</td>\n",
              "      <td>0.832974</td>\n",
              "      <td>5.0</td>\n",
              "      <td>6.00</td>\n",
              "      <td>6.5</td>\n",
              "      <td>6.50</td>\n",
              "      <td>8.0</td>\n",
              "      <td>3.384615</td>\n",
              "      <td>0.803837</td>\n",
              "      <td>2.0</td>\n",
              "      <td>3.0</td>\n",
              "      <td>4.0</td>\n",
              "      <td>4.0</td>\n",
              "      <td>4.0</td>\n",
              "    </tr>\n",
              "  </tbody>\n",
              "</table>\n",
              "</div>"
            ],
            "text/plain": [
              "   sleep_time_mean  sleep_time_std  ...  sleep_quality_75  sleep_quality_max\n",
              "0         6.574468        1.202257  ...               3.0                4.0\n",
              "1         5.233333        1.293758  ...               3.0                4.0\n",
              "2         5.980000        0.620484  ...               4.0                4.0\n",
              "3         5.735294        0.430562  ...               3.0                4.0\n",
              "4         6.423077        0.832974  ...               4.0                4.0\n",
              "\n",
              "[5 rows x 14 columns]"
            ]
          },
          "metadata": {
            "tags": []
          },
          "execution_count": 10
        }
      ]
    },
    {
      "cell_type": "code",
      "metadata": {
        "id": "thaNgWb-XGG_"
      },
      "source": [
        "\n",
        "scaler.fit(X)\n",
        "X_std = scaler.transform(X)\n",
        "test = scaler.transform(test)"
      ],
      "execution_count": null,
      "outputs": []
    },
    {
      "cell_type": "code",
      "metadata": {
        "colab": {
          "base_uri": "https://localhost:8080/"
        },
        "id": "kNp30rlDXb_n",
        "outputId": "f3dbfaef-8f0f-477d-a50a-d8d0b39a4e2e"
      },
      "source": [
        "Logit_l2_10.fit(X_std, y)"
      ],
      "execution_count": null,
      "outputs": [
        {
          "output_type": "stream",
          "text": [
            "/usr/local/lib/python3.7/dist-packages/sklearn/utils/validation.py:760: DataConversionWarning: A column-vector y was passed when a 1d array was expected. Please change the shape of y to (n_samples, ), for example using ravel().\n",
            "  y = column_or_1d(y, warn=True)\n",
            "/usr/local/lib/python3.7/dist-packages/sklearn/linear_model/_sag.py:330: ConvergenceWarning: The max_iter was reached which means the coef_ did not converge\n",
            "  \"the coef_ did not converge\", ConvergenceWarning)\n"
          ],
          "name": "stderr"
        },
        {
          "output_type": "execute_result",
          "data": {
            "text/plain": [
              "LogisticRegression(C=10, class_weight='balanced', dual=False,\n",
              "                   fit_intercept=True, intercept_scaling=1, l1_ratio=None,\n",
              "                   max_iter=100, multi_class='auto', n_jobs=None, penalty='l2',\n",
              "                   random_state=None, solver='saga', tol=0.0001, verbose=0,\n",
              "                   warm_start=False)"
            ]
          },
          "metadata": {
            "tags": []
          },
          "execution_count": 17
        }
      ]
    },
    {
      "cell_type": "code",
      "metadata": {
        "colab": {
          "base_uri": "https://localhost:8080/"
        },
        "id": "JkpqrLpNXhW4",
        "outputId": "f554d253-a1d7-4e69-fcf7-f6a06a61e091"
      },
      "source": [
        "test_pred = Logit_l2_10.predict(test)\n",
        "\n",
        "test_pred"
      ],
      "execution_count": null,
      "outputs": [
        {
          "output_type": "execute_result",
          "data": {
            "text/plain": [
              "array([1, 0, 0, 1, 0, 0, 1, 1, 1, 1, 0, 1, 0, 1, 0, 1, 1, 1, 0, 1, 0, 1,\n",
              "       0])"
            ]
          },
          "metadata": {
            "tags": []
          },
          "execution_count": 19
        }
      ]
    },
    {
      "cell_type": "code",
      "metadata": {
        "colab": {
          "base_uri": "https://localhost:8080/",
          "height": 195
        },
        "id": "SlvPsnOeXoaF",
        "outputId": "1540a98c-f7d9-4ed0-8d9b-b3c0b88d9958"
      },
      "source": [
        "sample = pd.read_csv('sample_submit.csv')\n",
        "sample['label'] = test_pred\n",
        "\n",
        "sample.head()"
      ],
      "execution_count": null,
      "outputs": [
        {
          "output_type": "execute_result",
          "data": {
            "text/html": [
              "<div>\n",
              "<style scoped>\n",
              "    .dataframe tbody tr th:only-of-type {\n",
              "        vertical-align: middle;\n",
              "    }\n",
              "\n",
              "    .dataframe tbody tr th {\n",
              "        vertical-align: top;\n",
              "    }\n",
              "\n",
              "    .dataframe thead th {\n",
              "        text-align: right;\n",
              "    }\n",
              "</style>\n",
              "<table border=\"1\" class=\"dataframe\">\n",
              "  <thead>\n",
              "    <tr style=\"text-align: right;\">\n",
              "      <th></th>\n",
              "      <th>id</th>\n",
              "      <th>label</th>\n",
              "    </tr>\n",
              "  </thead>\n",
              "  <tbody>\n",
              "    <tr>\n",
              "      <th>0</th>\n",
              "      <td>1</td>\n",
              "      <td>1</td>\n",
              "    </tr>\n",
              "    <tr>\n",
              "      <th>1</th>\n",
              "      <td>2</td>\n",
              "      <td>0</td>\n",
              "    </tr>\n",
              "    <tr>\n",
              "      <th>2</th>\n",
              "      <td>3</td>\n",
              "      <td>0</td>\n",
              "    </tr>\n",
              "    <tr>\n",
              "      <th>3</th>\n",
              "      <td>4</td>\n",
              "      <td>1</td>\n",
              "    </tr>\n",
              "    <tr>\n",
              "      <th>4</th>\n",
              "      <td>5</td>\n",
              "      <td>0</td>\n",
              "    </tr>\n",
              "  </tbody>\n",
              "</table>\n",
              "</div>"
            ],
            "text/plain": [
              "   id  label\n",
              "0   1      1\n",
              "1   2      0\n",
              "2   3      0\n",
              "3   4      1\n",
              "4   5      0"
            ]
          },
          "metadata": {
            "tags": []
          },
          "execution_count": 21
        }
      ]
    },
    {
      "cell_type": "code",
      "metadata": {
        "id": "BwzgSOpJX5yX"
      },
      "source": [
        "sample.to_csv('sample_submit.csv', mode='w', index=False)"
      ],
      "execution_count": null,
      "outputs": []
    },
    {
      "cell_type": "code",
      "metadata": {
        "id": "j721TmeFZrkj"
      },
      "source": [
        ""
      ],
      "execution_count": null,
      "outputs": []
    }
  ]
}