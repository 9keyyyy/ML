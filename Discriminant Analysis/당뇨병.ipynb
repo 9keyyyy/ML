{
  "nbformat": 4,
  "nbformat_minor": 0,
  "metadata": {
    "colab": {
      "name": "7주차과제_당뇨병.ipynb",
      "provenance": [],
      "collapsed_sections": []
    },
    "kernelspec": {
      "name": "python3",
      "display_name": "Python 3"
    },
    "language_info": {
      "name": "python"
    }
  },
  "cells": [
    {
      "cell_type": "code",
      "metadata": {
        "colab": {
          "base_uri": "https://localhost:8080/"
        },
        "id": "XYaohYMByawF",
        "outputId": "52117b46-8006-40bc-b027-f201796a4ff6"
      },
      "source": [
        "!unzip 2021-ml-diabetes.zip"
      ],
      "execution_count": 2,
      "outputs": [
        {
          "output_type": "stream",
          "text": [
            "Archive:  2021-ml-diabetes.zip\n",
            "  inflating: X_test.csv              \n",
            "  inflating: data.csv                \n",
            "  inflating: submit.csv              \n"
          ],
          "name": "stdout"
        }
      ]
    },
    {
      "cell_type": "code",
      "metadata": {
        "colab": {
          "base_uri": "https://localhost:8080/"
        },
        "id": "1GX2b-XMzeo4",
        "outputId": "97553cf1-4521-45d0-9cd3-cb72b8d0443a"
      },
      "source": [
        "import pandas as pd\n",
        "import numpy as np\n",
        "\n",
        "X = pd.read_csv('data.csv')\n",
        "\n",
        "X.head()\n",
        "\n",
        "y = X.iloc[:, -1]\n",
        "X = X.drop('Diabetes', axis=1)\n",
        "X.head()\n",
        "print(X.shape)\n",
        "#print(np.unique(y))"
      ],
      "execution_count": 25,
      "outputs": [
        {
          "output_type": "stream",
          "text": [
            "(537, 8)\n"
          ],
          "name": "stdout"
        }
      ]
    },
    {
      "cell_type": "code",
      "metadata": {
        "colab": {
          "base_uri": "https://localhost:8080/"
        },
        "id": "gcaHPpROzopQ",
        "outputId": "022bd257-8b69-4bc0-ead8-bac5bfb97271"
      },
      "source": [
        "from sklearn.model_selection import train_test_split\n",
        "X_train, X_test, y_train, y_test = train_test_split(X, y, test_size=0.3, random_state=1, stratify = y)\n",
        "print(X_train.shape)\n",
        "print(X_test.shape)\n",
        "print(y_train.shape)\n",
        "print(y_test.shape)"
      ],
      "execution_count": 18,
      "outputs": [
        {
          "output_type": "stream",
          "text": [
            "(375, 8)\n",
            "(162, 8)\n",
            "(375,)\n",
            "(162,)\n"
          ],
          "name": "stdout"
        }
      ]
    },
    {
      "cell_type": "code",
      "metadata": {
        "id": "sUo3h8mfzxjq"
      },
      "source": [
        "from sklearn.preprocessing import StandardScaler\n",
        "scaler = StandardScaler()\n",
        "X_train_std = scaler.fit_transform(X_train)\n",
        "X_test_std = scaler.transform(X_test)\n",
        "\n",
        "from sklearn.preprocessing import MinMaxScaler\n",
        "msc = MinMaxScaler()\n",
        "X_train_m = msc.fit_transform(X_train)\n",
        "X_test_m = msc.transform(X_test)\n",
        "\n",
        "from sklearn.preprocessing import RobustScaler\n",
        "rob = RobustScaler()\n",
        "X_train_rob = rob.fit_transform(X_train)\n",
        "X_test_rob = rob.transform(X_test)"
      ],
      "execution_count": 19,
      "outputs": []
    },
    {
      "cell_type": "code",
      "metadata": {
        "colab": {
          "base_uri": "https://localhost:8080/"
        },
        "id": "1DSNpbE2z2a5",
        "outputId": "d2dfd08b-e4ad-426a-b3e5-dd7975393c5e"
      },
      "source": [
        "from sklearn.discriminant_analysis import LinearDiscriminantAnalysis\n",
        "from sklearn.metrics import accuracy_score\n",
        "\n",
        "clf = LinearDiscriminantAnalysis(solver='lsqr',store_covariance = True)\n",
        "\n",
        "clf.fit(X_train, y_train)\n",
        "#y_train_pred = clf.predict(X_train)\n",
        "#print(accuracy_score(y_train_pred, y_train))\n",
        "print(clf.score(X_train, y_train))\n",
        "print(clf.score(X_test, y_test))\n",
        "\n",
        "clf.fit(X_train_std, y_train)\n",
        "print(clf.score(X_train_std, y_train))\n",
        "print(clf.score(X_test_std, y_test))\n",
        "\n",
        "clf.fit(X_train_m, y_train)\n",
        "print(clf.score(X_train_m, y_train))\n",
        "print(clf.score(X_test_m, y_test))\n",
        "\n",
        "clf.fit(X_train_rob, y_train)\n",
        "print(clf.score(X_train_rob, y_train))\n",
        "print(clf.score(X_test_rob, y_test))"
      ],
      "execution_count": 49,
      "outputs": [
        {
          "output_type": "stream",
          "text": [
            "0.768\n",
            "0.7962962962962963\n",
            "0.768\n",
            "0.7962962962962963\n",
            "0.768\n",
            "0.7962962962962963\n",
            "0.768\n",
            "0.7962962962962963\n"
          ],
          "name": "stdout"
        }
      ]
    },
    {
      "cell_type": "code",
      "metadata": {
        "colab": {
          "base_uri": "https://localhost:8080/"
        },
        "id": "iSOSNqlg0Gix",
        "outputId": "5643b256-58cf-4f2a-914e-9d8c59c6329a"
      },
      "source": [
        "from sklearn.discriminant_analysis import QuadraticDiscriminantAnalysis\n",
        "clf = QuadraticDiscriminantAnalysis(store_covariance = True)\n",
        "\n",
        "clf.fit(X_train, y_train)\n",
        "print(clf.score(X_train, y_train))\n",
        "print(clf.score(X_test, y_test))\n",
        "\n",
        "clf.fit(X_train_std, y_train)\n",
        "print(clf.score(X_train_std, y_train))\n",
        "print(clf.score(X_test_std, y_test))\n",
        "\n",
        "#clf.fit(X_train_m, y_train)\n",
        "#print(clf.score(X_train_m, y_train))\n",
        "#print(clf.score(X_test_m, y_test))\n",
        "\n",
        "#clf.fit(X_train_rob, y_train)\n",
        "#print(clf.score(X_train_rob, y_train))\n",
        "#print(clf.score(X_test_rob, y_test))"
      ],
      "execution_count": 43,
      "outputs": [
        {
          "output_type": "stream",
          "text": [
            "0.7706666666666667\n",
            "0.7716049382716049\n",
            "0.7706666666666667\n",
            "0.7716049382716049\n"
          ],
          "name": "stdout"
        }
      ]
    },
    {
      "cell_type": "code",
      "metadata": {
        "colab": {
          "base_uri": "https://localhost:8080/"
        },
        "id": "MgpQaIhu1KYV",
        "outputId": "c7c11752-a9e9-4b71-a6cd-638e0b757d11"
      },
      "source": [
        "test = pd.read_csv('X_test.csv')\n",
        "test.head()\n",
        "print(test.shape)\n",
        "X_std = scaler.fit_transform(X)\n",
        "test_std = scaler.transform(test)"
      ],
      "execution_count": 50,
      "outputs": [
        {
          "output_type": "stream",
          "text": [
            "(231, 8)\n"
          ],
          "name": "stdout"
        }
      ]
    },
    {
      "cell_type": "code",
      "metadata": {
        "id": "-GiEi-EM1RqU"
      },
      "source": [
        "clf = QuadraticDiscriminantAnalysis(store_covariance = True)\n",
        "clf.fit(X, y)\n",
        "test_pred = clf.predict(test)"
      ],
      "execution_count": 55,
      "outputs": []
    },
    {
      "cell_type": "code",
      "metadata": {
        "colab": {
          "base_uri": "https://localhost:8080/",
          "height": 195
        },
        "id": "bZ5_Gx1r1xxJ",
        "outputId": "1792193b-9f6f-4db7-ba68-c09ca2addc2c"
      },
      "source": [
        "sample = pd.read_csv('submit.csv')\n",
        "sample.head()"
      ],
      "execution_count": 56,
      "outputs": [
        {
          "output_type": "execute_result",
          "data": {
            "text/html": [
              "<div>\n",
              "<style scoped>\n",
              "    .dataframe tbody tr th:only-of-type {\n",
              "        vertical-align: middle;\n",
              "    }\n",
              "\n",
              "    .dataframe tbody tr th {\n",
              "        vertical-align: top;\n",
              "    }\n",
              "\n",
              "    .dataframe thead th {\n",
              "        text-align: right;\n",
              "    }\n",
              "</style>\n",
              "<table border=\"1\" class=\"dataframe\">\n",
              "  <thead>\n",
              "    <tr style=\"text-align: right;\">\n",
              "      <th></th>\n",
              "      <th>ID</th>\n",
              "      <th>Diabetes</th>\n",
              "    </tr>\n",
              "  </thead>\n",
              "  <tbody>\n",
              "    <tr>\n",
              "      <th>0</th>\n",
              "      <td>0</td>\n",
              "      <td>0</td>\n",
              "    </tr>\n",
              "    <tr>\n",
              "      <th>1</th>\n",
              "      <td>1</td>\n",
              "      <td>0</td>\n",
              "    </tr>\n",
              "    <tr>\n",
              "      <th>2</th>\n",
              "      <td>2</td>\n",
              "      <td>0</td>\n",
              "    </tr>\n",
              "    <tr>\n",
              "      <th>3</th>\n",
              "      <td>3</td>\n",
              "      <td>0</td>\n",
              "    </tr>\n",
              "    <tr>\n",
              "      <th>4</th>\n",
              "      <td>4</td>\n",
              "      <td>0</td>\n",
              "    </tr>\n",
              "  </tbody>\n",
              "</table>\n",
              "</div>"
            ],
            "text/plain": [
              "   ID  Diabetes\n",
              "0   0         0\n",
              "1   1         0\n",
              "2   2         0\n",
              "3   3         0\n",
              "4   4         0"
            ]
          },
          "metadata": {
            "tags": []
          },
          "execution_count": 56
        }
      ]
    },
    {
      "cell_type": "code",
      "metadata": {
        "colab": {
          "base_uri": "https://localhost:8080/",
          "height": 195
        },
        "id": "Hvwk92Gt2mRK",
        "outputId": "267ca174-17d7-4424-f91e-af41147f4e61"
      },
      "source": [
        "sample['Diabetes'] = test_pred\n",
        "sample.head()"
      ],
      "execution_count": 57,
      "outputs": [
        {
          "output_type": "execute_result",
          "data": {
            "text/html": [
              "<div>\n",
              "<style scoped>\n",
              "    .dataframe tbody tr th:only-of-type {\n",
              "        vertical-align: middle;\n",
              "    }\n",
              "\n",
              "    .dataframe tbody tr th {\n",
              "        vertical-align: top;\n",
              "    }\n",
              "\n",
              "    .dataframe thead th {\n",
              "        text-align: right;\n",
              "    }\n",
              "</style>\n",
              "<table border=\"1\" class=\"dataframe\">\n",
              "  <thead>\n",
              "    <tr style=\"text-align: right;\">\n",
              "      <th></th>\n",
              "      <th>ID</th>\n",
              "      <th>Diabetes</th>\n",
              "    </tr>\n",
              "  </thead>\n",
              "  <tbody>\n",
              "    <tr>\n",
              "      <th>0</th>\n",
              "      <td>0</td>\n",
              "      <td>0</td>\n",
              "    </tr>\n",
              "    <tr>\n",
              "      <th>1</th>\n",
              "      <td>1</td>\n",
              "      <td>0</td>\n",
              "    </tr>\n",
              "    <tr>\n",
              "      <th>2</th>\n",
              "      <td>2</td>\n",
              "      <td>0</td>\n",
              "    </tr>\n",
              "    <tr>\n",
              "      <th>3</th>\n",
              "      <td>3</td>\n",
              "      <td>0</td>\n",
              "    </tr>\n",
              "    <tr>\n",
              "      <th>4</th>\n",
              "      <td>4</td>\n",
              "      <td>1</td>\n",
              "    </tr>\n",
              "  </tbody>\n",
              "</table>\n",
              "</div>"
            ],
            "text/plain": [
              "   ID  Diabetes\n",
              "0   0         0\n",
              "1   1         0\n",
              "2   2         0\n",
              "3   3         0\n",
              "4   4         1"
            ]
          },
          "metadata": {
            "tags": []
          },
          "execution_count": 57
        }
      ]
    },
    {
      "cell_type": "code",
      "metadata": {
        "id": "hdbnMk1u2oOD"
      },
      "source": [
        "sample.to_csv('sample_submission.csv', mode='w', index=False)"
      ],
      "execution_count": 58,
      "outputs": []
    },
    {
      "cell_type": "code",
      "metadata": {
        "id": "CDC2rzwf2rXJ"
      },
      "source": [
        ""
      ],
      "execution_count": null,
      "outputs": []
    }
  ]
}