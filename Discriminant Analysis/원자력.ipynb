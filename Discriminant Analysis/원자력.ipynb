{
  "nbformat": 4,
  "nbformat_minor": 0,
  "metadata": {
    "colab": {
      "name": "7주차과제_원자력.ipynb",
      "provenance": [],
      "collapsed_sections": []
    },
    "kernelspec": {
      "name": "python3",
      "display_name": "Python 3"
    },
    "language_info": {
      "name": "python"
    }
  },
  "cells": [
    {
      "cell_type": "code",
      "metadata": {
        "colab": {
          "base_uri": "https://localhost:8080/"
        },
        "id": "x9h1xBZxgO6p",
        "outputId": "ecd68bdb-5d03-4441-de30-d33056305212"
      },
      "source": [
        "!unzip 2021-ml-p5.zip"
      ],
      "execution_count": 5,
      "outputs": [
        {
          "output_type": "stream",
          "text": [
            "Archive:  2021-ml-p5.zip\n",
            "  inflating: pca_test.csv            \n",
            "  inflating: pca_train.csv           \n",
            "  inflating: sample_submission.csv   \n",
            "  inflating: train_label.csv         \n"
          ],
          "name": "stdout"
        }
      ]
    },
    {
      "cell_type": "code",
      "metadata": {
        "colab": {
          "base_uri": "https://localhost:8080/"
        },
        "id": "V_n7XRR6goTL",
        "outputId": "028a596a-f383-436e-e8b8-0ae7fb67b9c4"
      },
      "source": [
        "import pandas as pd\n",
        "import numpy as np\n",
        "\n",
        "X = pd.read_csv('pca_train.csv')\n",
        "print(X.shape)\n",
        "X.head()\n",
        "\n",
        "y = pd.read_csv('train_label.csv')\n",
        "y = y.iloc[:, -1]\n",
        "print(y.shape)\n",
        "y.head()\n",
        "\n",
        "#print(np.unique(y))"
      ],
      "execution_count": 82,
      "outputs": [
        {
          "output_type": "stream",
          "text": [
            "(27671, 256)\n",
            "(27671,)\n"
          ],
          "name": "stdout"
        },
        {
          "output_type": "execute_result",
          "data": {
            "text/plain": [
              "0    136\n",
              "1     90\n",
              "2    112\n",
              "3    165\n",
              "4     73\n",
              "Name: label, dtype: int64"
            ]
          },
          "metadata": {
            "tags": []
          },
          "execution_count": 82
        }
      ]
    },
    {
      "cell_type": "code",
      "metadata": {
        "colab": {
          "base_uri": "https://localhost:8080/"
        },
        "id": "OwY0MYc4jmYs",
        "outputId": "babe583c-f9e9-4bd7-a3a9-26e7465b0047"
      },
      "source": [
        "from sklearn.model_selection import train_test_split\n",
        "X_train, X_test, y_train, y_test = train_test_split(X, y, test_size=0.3, random_state=1, stratify = y)\n",
        "print(X_train.shape)\n",
        "print(X_test.shape)\n",
        "print(y_train.shape)\n",
        "print(y_test.shape)"
      ],
      "execution_count": 112,
      "outputs": [
        {
          "output_type": "stream",
          "text": [
            "(19369, 256)\n",
            "(8302, 256)\n",
            "(19369,)\n",
            "(8302,)\n"
          ],
          "name": "stdout"
        }
      ]
    },
    {
      "cell_type": "code",
      "metadata": {
        "id": "ePxdDKvulQTj"
      },
      "source": [
        "from sklearn.preprocessing import StandardScaler\n",
        "scaler = StandardScaler()\n",
        "X_train_std = scaler.fit_transform(X_train)\n",
        "X_test_std = scaler.transform(X_test)"
      ],
      "execution_count": 113,
      "outputs": []
    },
    {
      "cell_type": "code",
      "metadata": {
        "id": "HHuasPJOmTaK"
      },
      "source": [
        "from sklearn.preprocessing import MinMaxScaler\n",
        "msc = MinMaxScaler()\n",
        "X_train_m = msc.fit_transform(X_train)\n",
        "X_test_m = msc.transform(X_test)"
      ],
      "execution_count": 114,
      "outputs": []
    },
    {
      "cell_type": "code",
      "metadata": {
        "id": "NKABNCAvmfQS"
      },
      "source": [
        "from sklearn.preprocessing import RobustScaler\n",
        "rob = RobustScaler()\n",
        "X_train_rob = rob.fit_transform(X_train)\n",
        "X_test_rob = rob.transform(X_test)"
      ],
      "execution_count": 115,
      "outputs": []
    },
    {
      "cell_type": "code",
      "metadata": {
        "colab": {
          "base_uri": "https://localhost:8080/"
        },
        "id": "F5hftiwjk-B1",
        "outputId": "417ae43e-77f7-459f-a549-23f997a5933c"
      },
      "source": [
        "from sklearn.discriminant_analysis import LinearDiscriminantAnalysis\n",
        "from sklearn.metrics import accuracy_score\n",
        "\n",
        "clf = LinearDiscriminantAnalysis(solver='lsqr' , store_covariance = True)\n",
        "\n",
        "clf.fit(X_train, y_train)\n",
        "#y_train_pred = clf.predict(X_train)\n",
        "#print(accuracy_score(y_train_pred, y_train))\n",
        "print(clf.score(X_train, y_train))\n",
        "print(clf.score(X_test, y_test))\n",
        "\n",
        "clf.fit(X_train_std, y_train)\n",
        "print(clf.score(X_train_std, y_train))\n",
        "print(clf.score(X_test_std, y_test))\n",
        "\n",
        "#clf.fit(X_train_m, y_train)\n",
        "#print(clf.score(X_train_m, y_train))\n",
        "#print(clf.score(X_test_m, y_test))\n",
        "\n",
        "#clf.fit(X_train_rob, y_train)\n",
        "#print(clf.score(X_train_rob, y_train))\n",
        "#print(clf.score(X_test_rob, y_test))"
      ],
      "execution_count": 116,
      "outputs": [
        {
          "output_type": "stream",
          "text": [
            "0.6867158862099231\n",
            "0.5917851120211998\n",
            "0.6867158862099231\n",
            "0.5917851120211998\n"
          ],
          "name": "stdout"
        }
      ]
    },
    {
      "cell_type": "code",
      "metadata": {
        "colab": {
          "base_uri": "https://localhost:8080/",
          "height": 301
        },
        "id": "7g-7WUe5oa_h",
        "outputId": "5775f258-75bc-429c-f1f6-7446b75c323e"
      },
      "source": [
        "clf = LinearDiscriminantAnalysis(store_covariance = True)\n",
        "X_lda = clf.fit_transform(X_train_std, y_train)\n",
        "\n",
        "from matplotlib import pyplot as plt\n",
        "plt.xlabel('LD1')\n",
        "plt.ylabel('LD2')\n",
        "plt.scatter(\n",
        "    X_lda[:, 0],\n",
        "    X_lda[:, 1],\n",
        "    c = y_train,\n",
        "    cmap='rainbow',\n",
        "    alpha=0.3,\n",
        "    edgecolors='b'\n",
        ")"
      ],
      "execution_count": 117,
      "outputs": [
        {
          "output_type": "execute_result",
          "data": {
            "text/plain": [
              "<matplotlib.collections.PathCollection at 0x7fe896b19110>"
            ]
          },
          "metadata": {
            "tags": []
          },
          "execution_count": 117
        },
        {
          "output_type": "display_data",
          "data": {
            "image/png": "[encoded data removed]",
            "text/plain": [
              "<Figure size 432x288 with 1 Axes>"
            ]
          },
          "metadata": {
            "tags": [],
            "needs_background": "light"
          }
        }
      ]
    },
    {
      "cell_type": "code",
      "metadata": {
        "colab": {
          "base_uri": "https://localhost:8080/"
        },
        "id": "2G9-SdCAmPbM",
        "outputId": "72e05887-319e-4294-83e6-6c38d8db1935"
      },
      "source": [
        "from sklearn.discriminant_analysis import QuadraticDiscriminantAnalysis\n",
        "clf = QuadraticDiscriminantAnalysis(store_covariance = True)\n",
        "\n",
        "#clf.fit(X_train, y_train)\n",
        "#print(clf.score(X_train, y_train))\n",
        "#print(clf.score(X_test, y_test))\n",
        "\n",
        "clf.fit(X_train_std, y_train)\n",
        "print(clf.score(X_train_std, y_train))\n",
        "print(clf.score(X_test_std, y_test))\n",
        "\n",
        "#clf.fit(X_train_m, y_train)\n",
        "#print(clf.score(X_train_m, y_train))\n",
        "#print(clf.score(X_test_m, y_test))\n",
        "\n",
        "#clf.fit(X_train_rob, y_train)\n",
        "#print(clf.score(X_train_rob, y_train))\n",
        "#print(clf.score(X_test_rob, y_test))"
      ],
      "execution_count": 40,
      "outputs": [
        {
          "output_type": "stream",
          "text": [
            "/usr/local/lib/python3.7/dist-packages/sklearn/discriminant_analysis.py:691: UserWarning: Variables are collinear\n",
            "  warnings.warn(\"Variables are collinear\")\n"
          ],
          "name": "stderr"
        },
        {
          "output_type": "stream",
          "text": [
            "0.9988125354948629\n",
            "0.3312454830161407\n"
          ],
          "name": "stdout"
        },
        {
          "output_type": "stream",
          "text": [
            "/usr/local/lib/python3.7/dist-packages/sklearn/discriminant_analysis.py:691: UserWarning: Variables are collinear\n",
            "  warnings.warn(\"Variables are collinear\")\n"
          ],
          "name": "stderr"
        },
        {
          "output_type": "stream",
          "text": [
            "0.9422272703805049\n",
            "0.3312454830161407\n"
          ],
          "name": "stdout"
        },
        {
          "output_type": "stream",
          "text": [
            "/usr/local/lib/python3.7/dist-packages/sklearn/discriminant_analysis.py:691: UserWarning: Variables are collinear\n",
            "  warnings.warn(\"Variables are collinear\")\n"
          ],
          "name": "stderr"
        },
        {
          "output_type": "stream",
          "text": [
            "0.9422272703805049\n",
            "0.3312454830161407\n"
          ],
          "name": "stdout"
        },
        {
          "output_type": "stream",
          "text": [
            "/usr/local/lib/python3.7/dist-packages/sklearn/discriminant_analysis.py:691: UserWarning: Variables are collinear\n",
            "  warnings.warn(\"Variables are collinear\")\n"
          ],
          "name": "stderr"
        },
        {
          "output_type": "stream",
          "text": [
            "0.9422272703805049\n",
            "0.3312454830161407\n"
          ],
          "name": "stdout"
        }
      ]
    },
    {
      "cell_type": "code",
      "metadata": {
        "id": "XALfkqV0p1d0"
      },
      "source": [
        "test = pd.read_csv('pca_test.csv')\n",
        "\n",
        "X_std = scaler.fit_transform(X)\n",
        "test_std = scaler.transform(test)"
      ],
      "execution_count": 61,
      "outputs": []
    },
    {
      "cell_type": "code",
      "metadata": {
        "id": "A1pwg3DIpiUU"
      },
      "source": [
        "from sklearn.discriminant_analysis import LinearDiscriminantAnalysis\n",
        "\n",
        "clf = LinearDiscriminantAnalysis(store_covariance = True)\n",
        "clf.fit(X, y)\n",
        "test_pred = clf.predict(test)"
      ],
      "execution_count": 70,
      "outputs": []
    },
    {
      "cell_type": "code",
      "metadata": {
        "colab": {
          "base_uri": "https://localhost:8080/",
          "height": 195
        },
        "id": "kPnWy6d4qcJx",
        "outputId": "8d505f10-14d9-47b2-86df-f1095794c571"
      },
      "source": [
        "sample = pd.read_csv('sample_submission.csv')\n",
        "sample.head()"
      ],
      "execution_count": 71,
      "outputs": [
        {
          "output_type": "execute_result",
          "data": {
            "text/html": [
              "<div>\n",
              "<style scoped>\n",
              "    .dataframe tbody tr th:only-of-type {\n",
              "        vertical-align: middle;\n",
              "    }\n",
              "\n",
              "    .dataframe tbody tr th {\n",
              "        vertical-align: top;\n",
              "    }\n",
              "\n",
              "    .dataframe thead th {\n",
              "        text-align: right;\n",
              "    }\n",
              "</style>\n",
              "<table border=\"1\" class=\"dataframe\">\n",
              "  <thead>\n",
              "    <tr style=\"text-align: right;\">\n",
              "      <th></th>\n",
              "      <th>id</th>\n",
              "      <th>label</th>\n",
              "    </tr>\n",
              "  </thead>\n",
              "  <tbody>\n",
              "    <tr>\n",
              "      <th>0</th>\n",
              "      <td>0</td>\n",
              "      <td>113</td>\n",
              "    </tr>\n",
              "    <tr>\n",
              "      <th>1</th>\n",
              "      <td>1</td>\n",
              "      <td>128</td>\n",
              "    </tr>\n",
              "    <tr>\n",
              "      <th>2</th>\n",
              "      <td>2</td>\n",
              "      <td>68</td>\n",
              "    </tr>\n",
              "    <tr>\n",
              "      <th>3</th>\n",
              "      <td>3</td>\n",
              "      <td>28</td>\n",
              "    </tr>\n",
              "    <tr>\n",
              "      <th>4</th>\n",
              "      <td>4</td>\n",
              "      <td>121</td>\n",
              "    </tr>\n",
              "  </tbody>\n",
              "</table>\n",
              "</div>"
            ],
            "text/plain": [
              "   id  label\n",
              "0   0    113\n",
              "1   1    128\n",
              "2   2     68\n",
              "3   3     28\n",
              "4   4    121"
            ]
          },
          "metadata": {
            "tags": []
          },
          "execution_count": 71
        }
      ]
    },
    {
      "cell_type": "code",
      "metadata": {
        "colab": {
          "base_uri": "https://localhost:8080/",
          "height": 195
        },
        "id": "6LvK_P9hqein",
        "outputId": "ee902664-9f93-414a-8440-bb601052179a"
      },
      "source": [
        "sample['label'] = test_pred\n",
        "sample.head()"
      ],
      "execution_count": 72,
      "outputs": [
        {
          "output_type": "execute_result",
          "data": {
            "text/html": [
              "<div>\n",
              "<style scoped>\n",
              "    .dataframe tbody tr th:only-of-type {\n",
              "        vertical-align: middle;\n",
              "    }\n",
              "\n",
              "    .dataframe tbody tr th {\n",
              "        vertical-align: top;\n",
              "    }\n",
              "\n",
              "    .dataframe thead th {\n",
              "        text-align: right;\n",
              "    }\n",
              "</style>\n",
              "<table border=\"1\" class=\"dataframe\">\n",
              "  <thead>\n",
              "    <tr style=\"text-align: right;\">\n",
              "      <th></th>\n",
              "      <th>id</th>\n",
              "      <th>label</th>\n",
              "    </tr>\n",
              "  </thead>\n",
              "  <tbody>\n",
              "    <tr>\n",
              "      <th>0</th>\n",
              "      <td>0</td>\n",
              "      <td>113</td>\n",
              "    </tr>\n",
              "    <tr>\n",
              "      <th>1</th>\n",
              "      <td>1</td>\n",
              "      <td>128</td>\n",
              "    </tr>\n",
              "    <tr>\n",
              "      <th>2</th>\n",
              "      <td>2</td>\n",
              "      <td>68</td>\n",
              "    </tr>\n",
              "    <tr>\n",
              "      <th>3</th>\n",
              "      <td>3</td>\n",
              "      <td>28</td>\n",
              "    </tr>\n",
              "    <tr>\n",
              "      <th>4</th>\n",
              "      <td>4</td>\n",
              "      <td>121</td>\n",
              "    </tr>\n",
              "  </tbody>\n",
              "</table>\n",
              "</div>"
            ],
            "text/plain": [
              "   id  label\n",
              "0   0    113\n",
              "1   1    128\n",
              "2   2     68\n",
              "3   3     28\n",
              "4   4    121"
            ]
          },
          "metadata": {
            "tags": []
          },
          "execution_count": 72
        }
      ]
    },
    {
      "cell_type": "code",
      "metadata": {
        "id": "zXOeFL2-q4Sg"
      },
      "source": [
        "sample.to_csv('sample_submission.csv', mode='w', index=False)"
      ],
      "execution_count": 73,
      "outputs": []
    },
    {
      "cell_type": "code",
      "metadata": {
        "id": "ncos7TbQrBpj"
      },
      "source": [
        ""
      ],
      "execution_count": null,
      "outputs": []
    }
  ]
}